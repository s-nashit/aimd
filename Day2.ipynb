{
 "cells": [
  {
   "cell_type": "code",
   "execution_count": 17,
   "id": "4157ba29-e83b-4e70-b665-0ea99e1a0c5a",
   "metadata": {},
   "outputs": [],
   "source": [
    "import spacy"
   ]
  },
  {
   "cell_type": "code",
   "execution_count": 18,
   "id": "3204e642-baff-491b-8ade-a6c8ca887d25",
   "metadata": {},
   "outputs": [],
   "source": [
    "nlp1 = spacy.load('en_core_web_sm')"
   ]
  },
  {
   "cell_type": "code",
   "execution_count": 19,
   "id": "76bbcfed-f373-49bf-bc8f-18008c9e9f9e",
   "metadata": {},
   "outputs": [],
   "source": [
    "pipeline = nlp('My name is Nashit. I am from Patna. I love pizza')"
   ]
  },
  {
   "cell_type": "code",
   "execution_count": 20,
   "id": "9bed9b04-cacb-470a-bfad-0706b6672651",
   "metadata": {},
   "outputs": [
    {
     "name": "stdout",
     "output_type": "stream",
     "text": [
      "My name is Nashit.\n",
      "I am from Patna.\n",
      "I love pizza\n"
     ]
    }
   ],
   "source": [
    "for s in pipeline.sents:\n",
    "    print(s)"
   ]
  },
  {
   "cell_type": "code",
   "execution_count": 21,
   "id": "67771083-a335-4f23-8b23-435587538639",
   "metadata": {},
   "outputs": [
    {
     "name": "stdout",
     "output_type": "stream",
     "text": [
      "My\n",
      "name\n",
      "is\n",
      "Nashit\n",
      ".\n",
      "I\n",
      "am\n",
      "from\n",
      "Patna\n",
      ".\n",
      "I\n",
      "love\n",
      "pizza\n"
     ]
    }
   ],
   "source": [
    "for s in pipeline.sents:\n",
    "    for w in s:\n",
    "        print(w)"
   ]
  },
  {
   "cell_type": "code",
   "execution_count": 72,
   "id": "54b40ad3-bb1d-4a8c-9b0c-a282a8d2cb16",
   "metadata": {},
   "outputs": [],
   "source": [
    "nlp = spacy.blank('en')"
   ]
  },
  {
   "cell_type": "code",
   "execution_count": 73,
   "id": "650762cf-803c-458c-b98b-e8bee03b7f61",
   "metadata": {},
   "outputs": [],
   "source": [
    "text = nlp('Peter gave 2 $, to John at nashit@abc.com on 2005.')"
   ]
  },
  {
   "cell_type": "code",
   "execution_count": 74,
   "id": "a3f422a3-3680-4420-a585-18617d22de6d",
   "metadata": {},
   "outputs": [
    {
     "data": {
      "text/plain": [
       "Peter"
      ]
     },
     "execution_count": 74,
     "metadata": {},
     "output_type": "execute_result"
    }
   ],
   "source": [
    "text[0]"
   ]
  },
  {
   "cell_type": "code",
   "execution_count": 75,
   "id": "e2eea2cd-0cbf-470e-a85d-3fba69cd1bbf",
   "metadata": {},
   "outputs": [
    {
     "name": "stdout",
     "output_type": "stream",
     "text": [
      "Peter\n",
      "gave\n",
      "2\n",
      "$\n",
      ",\n",
      "to\n",
      "John\n",
      "at\n",
      "nashit@abc.com\n",
      "on\n",
      "2005\n",
      ".\n"
     ]
    }
   ],
   "source": [
    "for token in text:\n",
    "    print(token)"
   ]
  },
  {
   "cell_type": "code",
   "execution_count": 39,
   "id": "48a2df39-b9af-473b-920a-8e997abedcdf",
   "metadata": {},
   "outputs": [
    {
     "data": {
      "text/plain": [
       "spacy.lang.en.English"
      ]
     },
     "execution_count": 39,
     "metadata": {},
     "output_type": "execute_result"
    }
   ],
   "source": [
    "type(nlp)"
   ]
  },
  {
   "cell_type": "code",
   "execution_count": 40,
   "id": "c1b98a0e-d2a1-4450-8d5a-8e537104db9d",
   "metadata": {},
   "outputs": [
    {
     "data": {
      "text/plain": [
       "spacy.tokens.token.Token"
      ]
     },
     "execution_count": 40,
     "metadata": {},
     "output_type": "execute_result"
    }
   ],
   "source": [
    "type(token)"
   ]
  },
  {
   "cell_type": "code",
   "execution_count": 41,
   "id": "de5075cc-79c9-4f53-827a-a15e266be425",
   "metadata": {},
   "outputs": [
    {
     "data": {
      "text/plain": [
       "[]"
      ]
     },
     "execution_count": 41,
     "metadata": {},
     "output_type": "execute_result"
    }
   ],
   "source": [
    "nlp.pipe_names"
   ]
  },
  {
   "cell_type": "code",
   "execution_count": 42,
   "id": "b5d716ca-4a7a-43f3-bc4a-4a189a8e6413",
   "metadata": {},
   "outputs": [
    {
     "data": {
      "text/plain": [
       "['tok2vec', 'tagger', 'parser', 'attribute_ruler', 'lemmatizer', 'ner']"
      ]
     },
     "execution_count": 42,
     "metadata": {},
     "output_type": "execute_result"
    }
   ],
   "source": [
    "nlp1.pipe_names"
   ]
  },
  {
   "cell_type": "code",
   "execution_count": 43,
   "id": "a33a2f99-02cd-431f-bc3f-fdb505df22a4",
   "metadata": {},
   "outputs": [
    {
     "data": {
      "text/plain": [
       ","
      ]
     },
     "execution_count": 43,
     "metadata": {},
     "output_type": "execute_result"
    }
   ],
   "source": [
    "text[4]"
   ]
  },
  {
   "cell_type": "code",
   "execution_count": 45,
   "id": "17d97cb5-cb7d-44e0-b970-6d1864b134d8",
   "metadata": {},
   "outputs": [
    {
     "data": {
      "text/plain": [
       "False"
      ]
     },
     "execution_count": 45,
     "metadata": {},
     "output_type": "execute_result"
    }
   ],
   "source": [
    "text[3].is_punct"
   ]
  },
  {
   "cell_type": "code",
   "execution_count": 47,
   "id": "423a2187-bb37-489c-8e57-201c548c055d",
   "metadata": {},
   "outputs": [
    {
     "data": {
      "text/plain": [
       "True"
      ]
     },
     "execution_count": 47,
     "metadata": {},
     "output_type": "execute_result"
    }
   ],
   "source": [
    "text[0].is_alpha"
   ]
  },
  {
   "cell_type": "code",
   "execution_count": 50,
   "id": "b872b24e-8909-4c47-8160-ad062e2111b9",
   "metadata": {},
   "outputs": [
    {
     "data": {
      "text/plain": [
       "True"
      ]
     },
     "execution_count": 50,
     "metadata": {},
     "output_type": "execute_result"
    }
   ],
   "source": [
    "text[2].like_num"
   ]
  },
  {
   "cell_type": "code",
   "execution_count": 52,
   "id": "b38a30f5-641d-4ffc-9d6f-bb212f34f07f",
   "metadata": {},
   "outputs": [
    {
     "data": {
      "text/plain": [
       "True"
      ]
     },
     "execution_count": 52,
     "metadata": {},
     "output_type": "execute_result"
    }
   ],
   "source": [
    "text[3].is_currency"
   ]
  },
  {
   "cell_type": "code",
   "execution_count": 55,
   "id": "ab10e163-f091-43e4-bf8a-d837c169dd05",
   "metadata": {},
   "outputs": [
    {
     "data": {
      "text/plain": [
       "nashit@abc.com"
      ]
     },
     "execution_count": 55,
     "metadata": {},
     "output_type": "execute_result"
    }
   ],
   "source": [
    "text[8]"
   ]
  },
  {
   "cell_type": "code",
   "execution_count": 56,
   "id": "a2b16d13-b406-42b4-87ef-ba5113651256",
   "metadata": {},
   "outputs": [
    {
     "data": {
      "text/plain": [
       "True"
      ]
     },
     "execution_count": 56,
     "metadata": {},
     "output_type": "execute_result"
    }
   ],
   "source": [
    "text[8].like_email"
   ]
  },
  {
   "cell_type": "code",
   "execution_count": 64,
   "id": "6fcc1638-829c-418a-b7bb-bf6021a97e95",
   "metadata": {},
   "outputs": [],
   "source": [
    "nlp_hi = spacy.blank('hi')"
   ]
  },
  {
   "cell_type": "code",
   "execution_count": 65,
   "id": "e6afcaa2-6645-461b-98fc-dfc26573c6c1",
   "metadata": {},
   "outputs": [],
   "source": [
    "text = nlp('हिंदी या आधुनिक मानक हिंदी विश्व की एक प्रमुख भाषा है और भारत की एक राजभाषा है। केंद्रीय स्तर पर भारत में सह-आधिकारिक भाषा अंग्रेजी है। ')"
   ]
  },
  {
   "cell_type": "code",
   "execution_count": 71,
   "id": "f2b350af-dbfe-4677-bc33-5cb2d08f4d19",
   "metadata": {},
   "outputs": [
    {
     "data": {
      "text/plain": [
       "True"
      ]
     },
     "execution_count": 71,
     "metadata": {},
     "output_type": "execute_result"
    }
   ],
   "source": [
    "text[17].is_punct"
   ]
  },
  {
   "cell_type": "code",
   "execution_count": 87,
   "id": "f208b97a-979b-4b9a-b9cd-2be8bcbe6ec6",
   "metadata": {},
   "outputs": [
    {
     "name": "stdout",
     "output_type": "stream",
     "text": [
      "index 0 -> Peter , is a noun: True  ,is a punctutation: False\n",
      "index 1 -> gave , is a noun: True  ,is a punctutation: False\n",
      "index 2 -> 2 , is a noun: False  ,is a punctutation: False\n",
      "index 3 -> $ , is a noun: False  ,is a punctutation: False\n",
      "index 4 -> , , is a noun: False  ,is a punctutation: True\n",
      "index 5 -> to , is a noun: True  ,is a punctutation: False\n",
      "index 6 -> John , is a noun: True  ,is a punctutation: False\n",
      "index 7 -> at , is a noun: True  ,is a punctutation: False\n",
      "index 8 -> nashit@abc.com , is a noun: False  ,is a punctutation: False\n",
      "index 9 -> on , is a noun: True  ,is a punctutation: False\n",
      "index 10 -> 2005 , is a noun: False  ,is a punctutation: False\n",
      "index 11 -> . , is a noun: False  ,is a punctutation: True\n"
     ]
    }
   ],
   "source": [
    "for token in text:\n",
    "    print('index', token.i, '->', token , ', is a noun:' , token.is_alpha, ' ,is a punctutation:', token.is_punct)"
   ]
  },
  {
   "cell_type": "code",
   "execution_count": 85,
   "id": "9807863f-69ee-49c1-be2c-03511bce9a44",
   "metadata": {},
   "outputs": [
    {
     "data": {
      "text/plain": [
       "['_',\n",
       " '__bytes__',\n",
       " '__class__',\n",
       " '__delattr__',\n",
       " '__dir__',\n",
       " '__doc__',\n",
       " '__eq__',\n",
       " '__format__',\n",
       " '__ge__',\n",
       " '__getattribute__',\n",
       " '__getstate__',\n",
       " '__gt__',\n",
       " '__hash__',\n",
       " '__init__',\n",
       " '__init_subclass__',\n",
       " '__le__',\n",
       " '__len__',\n",
       " '__lt__',\n",
       " '__ne__',\n",
       " '__new__',\n",
       " '__pyx_vtable__',\n",
       " '__reduce__',\n",
       " '__reduce_ex__',\n",
       " '__repr__',\n",
       " '__setattr__',\n",
       " '__sizeof__',\n",
       " '__str__',\n",
       " '__subclasshook__',\n",
       " '__unicode__',\n",
       " 'ancestors',\n",
       " 'check_flag',\n",
       " 'children',\n",
       " 'cluster',\n",
       " 'conjuncts',\n",
       " 'dep',\n",
       " 'dep_',\n",
       " 'doc',\n",
       " 'ent_id',\n",
       " 'ent_id_',\n",
       " 'ent_iob',\n",
       " 'ent_iob_',\n",
       " 'ent_kb_id',\n",
       " 'ent_kb_id_',\n",
       " 'ent_type',\n",
       " 'ent_type_',\n",
       " 'get_extension',\n",
       " 'has_dep',\n",
       " 'has_extension',\n",
       " 'has_head',\n",
       " 'has_morph',\n",
       " 'has_vector',\n",
       " 'head',\n",
       " 'i',\n",
       " 'idx',\n",
       " 'iob_strings',\n",
       " 'is_alpha',\n",
       " 'is_ancestor',\n",
       " 'is_ascii',\n",
       " 'is_bracket',\n",
       " 'is_currency',\n",
       " 'is_digit',\n",
       " 'is_left_punct',\n",
       " 'is_lower',\n",
       " 'is_oov',\n",
       " 'is_punct',\n",
       " 'is_quote',\n",
       " 'is_right_punct',\n",
       " 'is_sent_end',\n",
       " 'is_sent_start',\n",
       " 'is_space',\n",
       " 'is_stop',\n",
       " 'is_title',\n",
       " 'is_upper',\n",
       " 'lang',\n",
       " 'lang_',\n",
       " 'left_edge',\n",
       " 'lefts',\n",
       " 'lemma',\n",
       " 'lemma_',\n",
       " 'lex',\n",
       " 'lex_id',\n",
       " 'like_email',\n",
       " 'like_num',\n",
       " 'like_url',\n",
       " 'lower',\n",
       " 'lower_',\n",
       " 'morph',\n",
       " 'n_lefts',\n",
       " 'n_rights',\n",
       " 'nbor',\n",
       " 'norm',\n",
       " 'norm_',\n",
       " 'orth',\n",
       " 'orth_',\n",
       " 'pos',\n",
       " 'pos_',\n",
       " 'prefix',\n",
       " 'prefix_',\n",
       " 'prob',\n",
       " 'rank',\n",
       " 'remove_extension',\n",
       " 'right_edge',\n",
       " 'rights',\n",
       " 'sent',\n",
       " 'sent_start',\n",
       " 'sentiment',\n",
       " 'set_extension',\n",
       " 'set_morph',\n",
       " 'shape',\n",
       " 'shape_',\n",
       " 'similarity',\n",
       " 'subtree',\n",
       " 'suffix',\n",
       " 'suffix_',\n",
       " 'tag',\n",
       " 'tag_',\n",
       " 'tensor',\n",
       " 'text',\n",
       " 'text_with_ws',\n",
       " 'vector',\n",
       " 'vector_norm',\n",
       " 'vocab',\n",
       " 'whitespace_']"
      ]
     },
     "execution_count": 85,
     "metadata": {},
     "output_type": "execute_result"
    }
   ],
   "source": [
    "dir(token)"
   ]
  },
  {
   "cell_type": "code",
   "execution_count": 88,
   "id": "47e8eb64-962d-4221-b3e6-8fe562910bd1",
   "metadata": {},
   "outputs": [
    {
     "data": {
      "text/plain": [
       "[]"
      ]
     },
     "execution_count": 88,
     "metadata": {},
     "output_type": "execute_result"
    }
   ],
   "source": [
    "nlp.pipe_names"
   ]
  },
  {
   "cell_type": "code",
   "execution_count": 89,
   "id": "1a079c57-5afc-4fc4-8871-ebff7e81713d",
   "metadata": {},
   "outputs": [],
   "source": [
    "nlp_en = spacy.load('en_core_web_sm')"
   ]
  },
  {
   "cell_type": "code",
   "execution_count": 90,
   "id": "60c0db1c-7aef-4d76-ac3e-75c452eb2642",
   "metadata": {},
   "outputs": [
    {
     "data": {
      "text/plain": [
       "['tok2vec', 'tagger', 'parser', 'attribute_ruler', 'lemmatizer', 'ner']"
      ]
     },
     "execution_count": 90,
     "metadata": {},
     "output_type": "execute_result"
    }
   ],
   "source": [
    "nlp_en.pipe_names"
   ]
  },
  {
   "cell_type": "code",
   "execution_count": 91,
   "id": "ff73cfab-fd11-40b0-965a-c34fa310656d",
   "metadata": {},
   "outputs": [
    {
     "data": {
      "text/plain": [
       "[('tok2vec', <spacy.pipeline.tok2vec.Tok2Vec at 0x233da112d50>),\n",
       " ('tagger', <spacy.pipeline.tagger.Tagger at 0x233da1135f0>),\n",
       " ('parser', <spacy.pipeline.dep_parser.DependencyParser at 0x233d32f7530>),\n",
       " ('attribute_ruler',\n",
       "  <spacy.pipeline.attributeruler.AttributeRuler at 0x233d3727f50>),\n",
       " ('lemmatizer', <spacy.lang.en.lemmatizer.EnglishLemmatizer at 0x233d185d390>),\n",
       " ('ner', <spacy.pipeline.ner.EntityRecognizer at 0x233d32f71b0>)]"
      ]
     },
     "execution_count": 91,
     "metadata": {},
     "output_type": "execute_result"
    }
   ],
   "source": [
    "nlp_en.pipeline"
   ]
  },
  {
   "cell_type": "code",
   "execution_count": 99,
   "id": "fd286ad6-69ab-4b72-918c-c1403e504f31",
   "metadata": {},
   "outputs": [],
   "source": [
    "text = 'John from India ate Butter Chicken, of 100$ rains. And, then he went back home.'"
   ]
  },
  {
   "cell_type": "code",
   "execution_count": 100,
   "id": "f673aba3-8a79-434b-a85d-0d195d1cf4b8",
   "metadata": {},
   "outputs": [],
   "source": [
    "doc = nlp_en(text)"
   ]
  },
  {
   "cell_type": "code",
   "execution_count": 101,
   "id": "e6a7d7e4-e8bd-4cc5-a61d-e2ea85f0eddc",
   "metadata": {},
   "outputs": [
    {
     "name": "stdout",
     "output_type": "stream",
     "text": [
      "John  |  proper noun  |  John\n",
      "from  |  adposition  |  from\n",
      "India  |  proper noun  |  India\n",
      "ate  |  verb  |  eat\n",
      "Butter  |  proper noun  |  Butter\n",
      "Chicken  |  proper noun  |  Chicken\n",
      ",  |  punctuation  |  ,\n",
      "of  |  adposition  |  of\n",
      "100  |  numeral  |  100\n",
      "$  |  numeral  |  $\n",
      "rains  |  noun  |  rain\n",
      ".  |  punctuation  |  .\n",
      "And  |  coordinating conjunction  |  and\n",
      ",  |  punctuation  |  ,\n",
      "then  |  adverb  |  then\n",
      "he  |  pronoun  |  he\n",
      "went  |  verb  |  go\n",
      "back  |  adverb  |  back\n",
      "home  |  adverb  |  home\n",
      ".  |  punctuation  |  .\n"
     ]
    }
   ],
   "source": [
    "for token in doc:\n",
    "    print(token , ' | ', spacy.explain(token.pos_) , ' | ', token.lemma_)"
   ]
  },
  {
   "cell_type": "code",
   "execution_count": 102,
   "id": "ed246fc3-d44a-49a4-9148-50989c4d6974",
   "metadata": {},
   "outputs": [],
   "source": [
    "text = 'He eats buttery breads. Walking in the walks of life'"
   ]
  },
  {
   "cell_type": "code",
   "execution_count": 103,
   "id": "15a9eb50-dcb6-4847-9be2-0eff1d93729b",
   "metadata": {},
   "outputs": [],
   "source": [
    "doc = nlp_en(text)"
   ]
  },
  {
   "cell_type": "code",
   "execution_count": 104,
   "id": "c382b878-db4c-4bfe-b482-c042545921d4",
   "metadata": {},
   "outputs": [
    {
     "name": "stdout",
     "output_type": "stream",
     "text": [
      "He  |  pronoun  |  he\n",
      "eats  |  verb  |  eat\n",
      "buttery  |  noun  |  buttery\n",
      "breads  |  noun  |  bread\n",
      ".  |  punctuation  |  .\n",
      "Walking  |  verb  |  walk\n",
      "in  |  adposition  |  in\n",
      "the  |  determiner  |  the\n",
      "walks  |  noun  |  walk\n",
      "of  |  adposition  |  of\n",
      "life  |  noun  |  life\n"
     ]
    }
   ],
   "source": [
    "for token in doc:\n",
    "    print(token , ' | ', spacy.explain(token.pos_) , ' | ', token.lemma_)"
   ]
  },
  {
   "cell_type": "code",
   "execution_count": 105,
   "id": "9bdb4c65-f3ba-4808-9402-d71e8e4d4c5d",
   "metadata": {},
   "outputs": [],
   "source": [
    "text = 'Tesla Inc has acquired Twitter for $6 billion and renamed it to X'"
   ]
  },
  {
   "cell_type": "code",
   "execution_count": 106,
   "id": "bfa3f72a-b957-426a-9011-a2342b30485a",
   "metadata": {},
   "outputs": [],
   "source": [
    "doc = nlp_en(text)"
   ]
  },
  {
   "cell_type": "code",
   "execution_count": 109,
   "id": "df30632f-958f-45d4-b139-ee061ca15f55",
   "metadata": {},
   "outputs": [
    {
     "name": "stdout",
     "output_type": "stream",
     "text": [
      "Tesla Inc  |  ORG\n",
      "Twitter  |  PERSON\n",
      "$6 billion  |  MONEY\n"
     ]
    }
   ],
   "source": [
    "for i in doc.ents:\n",
    "    print(i.text, ' | ', i.label_)"
   ]
  },
  {
   "cell_type": "code",
   "execution_count": 110,
   "id": "9a8deae8-7dfc-4e9e-955f-fa4c4fdf5b70",
   "metadata": {},
   "outputs": [],
   "source": [
    "text = 'Priyank Shah, Co-Founder and CEO of The Financialist, suggest liquidation of the assets to falling into debt trap. \"If you have liquid assets such as fixed deposits, mutual funds, equities or similar assets that cover the credit card bill amount, it’s important to liquidate them to pay the bill. Not only the interest rates are higher on the credit card bill but it also affects future borrowings adversely,\" said Shah.'"
   ]
  },
  {
   "cell_type": "code",
   "execution_count": 111,
   "id": "d39f3f84-2f7d-485c-8c2a-4e210a5dd400",
   "metadata": {},
   "outputs": [],
   "source": [
    "doc = nlp_en(text)"
   ]
  },
  {
   "cell_type": "code",
   "execution_count": 112,
   "id": "24f0fcdf-c8ea-4cc6-bada-b88f4706a851",
   "metadata": {},
   "outputs": [
    {
     "name": "stdout",
     "output_type": "stream",
     "text": [
      "Priyank Shah  |  PERSON\n",
      "Co-Founder  |  ORG\n",
      "Financialist  |  NORP\n",
      "Shah  |  PERSON\n"
     ]
    }
   ],
   "source": [
    "for i in doc.ents:\n",
    "    print(i.text, ' | ', i.label_)"
   ]
  },
  {
   "cell_type": "code",
   "execution_count": 113,
   "id": "5908c9df-c504-40f7-9f94-f794fa28ddf8",
   "metadata": {},
   "outputs": [],
   "source": [
    "text = \"Dr. A. P. J. Abdul Kalam traveled to Delhi in 2005 to speak with scientists at ISRO.\""
   ]
  },
  {
   "cell_type": "code",
   "execution_count": 114,
   "id": "9d6d0b57-ea1f-465e-87e9-49300659e8ed",
   "metadata": {},
   "outputs": [],
   "source": [
    "doc = nlp_en(text)"
   ]
  },
  {
   "cell_type": "code",
   "execution_count": 115,
   "id": "c0920605-70c4-4fa5-999d-ad9332b2a125",
   "metadata": {},
   "outputs": [
    {
     "name": "stdout",
     "output_type": "stream",
     "text": [
      "A. P. J. Abdul Kalam  |  PERSON\n",
      "Delhi  |  GPE\n",
      "2005  |  DATE\n",
      "ISRO  |  ORG\n"
     ]
    }
   ],
   "source": [
    "for i in doc.ents:\n",
    "    print(i.text, ' | ', i.label_)"
   ]
  },
  {
   "cell_type": "code",
   "execution_count": null,
   "id": "482971ca-335b-469c-80ff-965199fe86a2",
   "metadata": {},
   "outputs": [],
   "source": []
  }
 ],
 "metadata": {
  "kernelspec": {
   "display_name": "Python 3 (ipykernel)",
   "language": "python",
   "name": "python3"
  },
  "language_info": {
   "codemirror_mode": {
    "name": "ipython",
    "version": 3
   },
   "file_extension": ".py",
   "mimetype": "text/x-python",
   "name": "python",
   "nbconvert_exporter": "python",
   "pygments_lexer": "ipython3",
   "version": "3.12.10"
  }
 },
 "nbformat": 4,
 "nbformat_minor": 5
}
