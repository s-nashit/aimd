{
 "cells": [
  {
   "cell_type": "markdown",
   "id": "cfa0b34c-4d0e-4cd8-99d3-d9c28c39114c",
   "metadata": {},
   "source": [
    "# NLP Pipeline:"
   ]
  },
  {
   "cell_type": "code",
   "execution_count": 43,
   "id": "41561e58-3472-4782-9b68-c0ba58dfe839",
   "metadata": {},
   "outputs": [],
   "source": [
    "#Data Collection"
   ]
  },
  {
   "cell_type": "code",
   "execution_count": 44,
   "id": "1224d82b-724c-4f30-9b2e-9788cefe3882",
   "metadata": {},
   "outputs": [],
   "source": [
    "import pandas as pd\n",
    "df = pd.read_csv('sentiment-analysis.csv', )"
   ]
  },
  {
   "cell_type": "code",
   "execution_count": 69,
   "id": "c3721448-f2fe-425f-a535-c3b40ffbcc4b",
   "metadata": {},
   "outputs": [
    {
     "data": {
      "text/html": [
       "<div>\n",
       "<style scoped>\n",
       "    .dataframe tbody tr th:only-of-type {\n",
       "        vertical-align: middle;\n",
       "    }\n",
       "\n",
       "    .dataframe tbody tr th {\n",
       "        vertical-align: top;\n",
       "    }\n",
       "\n",
       "    .dataframe thead th {\n",
       "        text-align: right;\n",
       "    }\n",
       "</style>\n",
       "<table border=\"1\" class=\"dataframe\">\n",
       "  <thead>\n",
       "    <tr style=\"text-align: right;\">\n",
       "      <th></th>\n",
       "      <th>Text</th>\n",
       "      <th>Sentiment</th>\n",
       "      <th>Source</th>\n",
       "      <th>Date/Time</th>\n",
       "      <th>User ID</th>\n",
       "      <th>Location</th>\n",
       "      <th>Confidence Score</th>\n",
       "      <th>Clean</th>\n",
       "    </tr>\n",
       "  </thead>\n",
       "  <tbody>\n",
       "    <tr>\n",
       "      <th>0</th>\n",
       "      <td>I love this product!</td>\n",
       "      <td>Positive</td>\n",
       "      <td>Twitter</td>\n",
       "      <td>2023-06-15 09:23:14</td>\n",
       "      <td>@user123</td>\n",
       "      <td>New York</td>\n",
       "      <td>0.85</td>\n",
       "      <td>None</td>\n",
       "    </tr>\n",
       "    <tr>\n",
       "      <th>1</th>\n",
       "      <td>The service was terrible.</td>\n",
       "      <td>Negative</td>\n",
       "      <td>Yelp Reviews</td>\n",
       "      <td>2023-06-15 11:45:32</td>\n",
       "      <td>user456</td>\n",
       "      <td>Los Angeles</td>\n",
       "      <td>0.65</td>\n",
       "      <td>None</td>\n",
       "    </tr>\n",
       "    <tr>\n",
       "      <th>2</th>\n",
       "      <td>This movie is amazing!</td>\n",
       "      <td>Positive</td>\n",
       "      <td>IMDb</td>\n",
       "      <td>2023-06-15 14:10:22</td>\n",
       "      <td>moviefan789</td>\n",
       "      <td>London</td>\n",
       "      <td>0.92</td>\n",
       "      <td>None</td>\n",
       "    </tr>\n",
       "    <tr>\n",
       "      <th>3</th>\n",
       "      <td>I'm so disappointed with their customer support.</td>\n",
       "      <td>Negative</td>\n",
       "      <td>Online Forum</td>\n",
       "      <td>2023-06-15 17:35:11</td>\n",
       "      <td>forumuser1</td>\n",
       "      <td>Toronto</td>\n",
       "      <td>0.78</td>\n",
       "      <td>None</td>\n",
       "    </tr>\n",
       "    <tr>\n",
       "      <th>4</th>\n",
       "      <td>Just had the best meal of my life!</td>\n",
       "      <td>Positive</td>\n",
       "      <td>TripAdvisor</td>\n",
       "      <td>2023-06-16 08:50:59</td>\n",
       "      <td>foodie22</td>\n",
       "      <td>Paris</td>\n",
       "      <td>0.88</td>\n",
       "      <td>None</td>\n",
       "    </tr>\n",
       "    <tr>\n",
       "      <th>5</th>\n",
       "      <td>The quality of this product is subpar.</td>\n",
       "      <td>Negative</td>\n",
       "      <td>Amazon Reviews</td>\n",
       "      <td>2023-06-16 10:15:27</td>\n",
       "      <td>shopper123</td>\n",
       "      <td>San Francisco</td>\n",
       "      <td>0.72</td>\n",
       "      <td>None</td>\n",
       "    </tr>\n",
       "    <tr>\n",
       "      <th>6</th>\n",
       "      <td>I can't stop listening to this song. It's incr...</td>\n",
       "      <td>Positive</td>\n",
       "      <td>Spotify</td>\n",
       "      <td>2023-06-16 13:40:18</td>\n",
       "      <td>musiclover456</td>\n",
       "      <td>Berlin</td>\n",
       "      <td>0.91</td>\n",
       "      <td>None</td>\n",
       "    </tr>\n",
       "    <tr>\n",
       "      <th>7</th>\n",
       "      <td>Their website is so user-friendly. Love it!</td>\n",
       "      <td>Positive</td>\n",
       "      <td>Website Testimonial</td>\n",
       "      <td>2023-06-16 16:05:36</td>\n",
       "      <td>testimonialuser1</td>\n",
       "      <td>Sydney</td>\n",
       "      <td>0.87</td>\n",
       "      <td>None</td>\n",
       "    </tr>\n",
       "    <tr>\n",
       "      <th>8</th>\n",
       "      <td>I loved the movie! It was fantastic!</td>\n",
       "      <td>Positive</td>\n",
       "      <td>IMDb</td>\n",
       "      <td>2023-07-02 09:12:34</td>\n",
       "      <td>user123</td>\n",
       "      <td>New York</td>\n",
       "      <td>0.92</td>\n",
       "      <td>None</td>\n",
       "    </tr>\n",
       "    <tr>\n",
       "      <th>9</th>\n",
       "      <td>The customer service was terrible.</td>\n",
       "      <td>Negative</td>\n",
       "      <td>Yelp Reviews</td>\n",
       "      <td>2023-07-02 10:45:21</td>\n",
       "      <td>user456</td>\n",
       "      <td>Los Angeles</td>\n",
       "      <td>0.65</td>\n",
       "      <td>None</td>\n",
       "    </tr>\n",
       "    <tr>\n",
       "      <th>10</th>\n",
       "      <td>This book made me feel inspired. Highly recomm...</td>\n",
       "      <td>Positive</td>\n",
       "      <td>Goodreads</td>\n",
       "      <td>2023-07-02 12:34:56</td>\n",
       "      <td>bookworm789</td>\n",
       "      <td>London</td>\n",
       "      <td>0.88</td>\n",
       "      <td>None</td>\n",
       "    </tr>\n",
       "    <tr>\n",
       "      <th>11</th>\n",
       "      <td>I'm extremely disappointed with their product ...</td>\n",
       "      <td>Negative</td>\n",
       "      <td>Online Store</td>\n",
       "      <td>2023-07-02 15:21:43</td>\n",
       "      <td>shopper789</td>\n",
       "      <td>San Francisco</td>\n",
       "      <td>0.72</td>\n",
       "      <td>None</td>\n",
       "    </tr>\n",
       "    <tr>\n",
       "      <th>12</th>\n",
       "      <td>Just had the most amazing vacation! I can't wa...</td>\n",
       "      <td>Positive</td>\n",
       "      <td>TripAdvisor</td>\n",
       "      <td>2023-07-02 18:01:23</td>\n",
       "      <td>travelenthusiast1</td>\n",
       "      <td>Sydney</td>\n",
       "      <td>0.93</td>\n",
       "      <td>None</td>\n",
       "    </tr>\n",
       "    <tr>\n",
       "      <th>13</th>\n",
       "      <td>The food at this restaurant was awful. Never g...</td>\n",
       "      <td>Negative</td>\n",
       "      <td>Zomato</td>\n",
       "      <td>2023-07-02 20:45:37</td>\n",
       "      <td>foodlover123</td>\n",
       "      <td>Mumbai</td>\n",
       "      <td>0.55</td>\n",
       "      <td>None</td>\n",
       "    </tr>\n",
       "    <tr>\n",
       "      <th>14</th>\n",
       "      <td>I can't stop listening to this song. It's my n...</td>\n",
       "      <td>Positive</td>\n",
       "      <td>Spotify</td>\n",
       "      <td>2023-07-03 09:17:52</td>\n",
       "      <td>musiclover789</td>\n",
       "      <td>Berlin</td>\n",
       "      <td>0.91</td>\n",
       "      <td>None</td>\n",
       "    </tr>\n",
       "  </tbody>\n",
       "</table>\n",
       "</div>"
      ],
      "text/plain": [
       "                                                 Text  Sentiment  \\\n",
       "0                                I love this product!   Positive   \n",
       "1                           The service was terrible.   Negative   \n",
       "2                              This movie is amazing!   Positive   \n",
       "3    I'm so disappointed with their customer support.   Negative   \n",
       "4                  Just had the best meal of my life!   Positive   \n",
       "5              The quality of this product is subpar.   Negative   \n",
       "6   I can't stop listening to this song. It's incr...   Positive   \n",
       "7         Their website is so user-friendly. Love it!   Positive   \n",
       "8                I loved the movie! It was fantastic!   Positive   \n",
       "9                  The customer service was terrible.   Negative   \n",
       "10  This book made me feel inspired. Highly recomm...   Positive   \n",
       "11  I'm extremely disappointed with their product ...   Negative   \n",
       "12  Just had the most amazing vacation! I can't wa...   Positive   \n",
       "13  The food at this restaurant was awful. Never g...   Negative   \n",
       "14  I can't stop listening to this song. It's my n...   Positive   \n",
       "\n",
       "                  Source             Date/Time             User ID  \\\n",
       "0                Twitter   2023-06-15 09:23:14            @user123   \n",
       "1           Yelp Reviews   2023-06-15 11:45:32             user456   \n",
       "2                   IMDb   2023-06-15 14:10:22         moviefan789   \n",
       "3           Online Forum   2023-06-15 17:35:11          forumuser1   \n",
       "4            TripAdvisor   2023-06-16 08:50:59            foodie22   \n",
       "5         Amazon Reviews   2023-06-16 10:15:27          shopper123   \n",
       "6                Spotify   2023-06-16 13:40:18       musiclover456   \n",
       "7    Website Testimonial   2023-06-16 16:05:36    testimonialuser1   \n",
       "8                   IMDb   2023-07-02 09:12:34             user123   \n",
       "9           Yelp Reviews   2023-07-02 10:45:21             user456   \n",
       "10             Goodreads   2023-07-02 12:34:56         bookworm789   \n",
       "11          Online Store   2023-07-02 15:21:43          shopper789   \n",
       "12           TripAdvisor   2023-07-02 18:01:23   travelenthusiast1   \n",
       "13                Zomato   2023-07-02 20:45:37        foodlover123   \n",
       "14               Spotify   2023-07-03 09:17:52       musiclover789   \n",
       "\n",
       "          Location   Confidence Score Clean  \n",
       "0         New York               0.85  None  \n",
       "1      Los Angeles               0.65  None  \n",
       "2           London               0.92  None  \n",
       "3          Toronto               0.78  None  \n",
       "4            Paris               0.88  None  \n",
       "5    San Francisco               0.72  None  \n",
       "6           Berlin               0.91  None  \n",
       "7           Sydney               0.87  None  \n",
       "8         New York               0.92  None  \n",
       "9      Los Angeles               0.65  None  \n",
       "10          London               0.88  None  \n",
       "11   San Francisco               0.72  None  \n",
       "12          Sydney               0.93  None  \n",
       "13          Mumbai               0.55  None  \n",
       "14          Berlin               0.91  None  "
      ]
     },
     "execution_count": 69,
     "metadata": {},
     "output_type": "execute_result"
    }
   ],
   "source": [
    "df.head(15)"
   ]
  },
  {
   "cell_type": "code",
   "execution_count": 46,
   "id": "f3a3f90f-2b4d-457f-b174-ac4d4d24cc17",
   "metadata": {},
   "outputs": [
    {
     "data": {
      "text/plain": [
       "(96, 7)"
      ]
     },
     "execution_count": 46,
     "metadata": {},
     "output_type": "execute_result"
    }
   ],
   "source": [
    "df.shape"
   ]
  },
  {
   "cell_type": "code",
   "execution_count": 47,
   "id": "571e1683-00c6-45aa-a820-1403f527cfc9",
   "metadata": {},
   "outputs": [],
   "source": [
    "#Text Cleaning"
   ]
  },
  {
   "cell_type": "code",
   "execution_count": 48,
   "id": "4a35efd0-79c0-4c19-a1d2-08808f235efd",
   "metadata": {},
   "outputs": [
    {
     "data": {
      "text/plain": [
       "Text                 0\n",
       " Sentiment           0\n",
       " Source              0\n",
       " Date/Time           0\n",
       " User ID             0\n",
       " Location            0\n",
       " Confidence Score    0\n",
       "dtype: int64"
      ]
     },
     "execution_count": 48,
     "metadata": {},
     "output_type": "execute_result"
    }
   ],
   "source": [
    "df.isna().sum()"
   ]
  },
  {
   "cell_type": "code",
   "execution_count": 49,
   "id": "febe29ba-3864-4313-96c5-853f33c17f43",
   "metadata": {},
   "outputs": [
    {
     "data": {
      "text/plain": [
       "np.int64(21)"
      ]
     },
     "execution_count": 49,
     "metadata": {},
     "output_type": "execute_result"
    }
   ],
   "source": [
    "df.duplicated().sum()"
   ]
  },
  {
   "cell_type": "code",
   "execution_count": 50,
   "id": "ab8c36e6-c8a6-4773-afa3-7277b0b52f71",
   "metadata": {},
   "outputs": [],
   "source": [
    "def toLowerCase(text):\n",
    "    return text.lower()"
   ]
  },
  {
   "cell_type": "code",
   "execution_count": 70,
   "id": "0164093e-ac8f-46d2-8c92-25422d0ea2e4",
   "metadata": {},
   "outputs": [
    {
     "data": {
      "text/plain": [
       "'the food at this restaurant was awful. never g'"
      ]
     },
     "execution_count": 70,
     "metadata": {},
     "output_type": "execute_result"
    }
   ],
   "source": [
    "toLowerCase('The food at this restaurant was awful. Never g')"
   ]
  },
  {
   "cell_type": "code",
   "execution_count": 51,
   "id": "2a22c9ba-4577-41ef-bf5f-5bf4f2602cce",
   "metadata": {},
   "outputs": [],
   "source": [
    "import string\n",
    "import re\n",
    "def removePunctuation(text):\n",
    "    return text.translate(str.maketrans('','', string.punctuation))"
   ]
  },
  {
   "cell_type": "code",
   "execution_count": 87,
   "id": "5eaf5a13-1d0c-422a-b5a4-774697a41ad2",
   "metadata": {},
   "outputs": [
    {
     "data": {
      "text/plain": [
       "'The food at this restaurant was awful Never g'"
      ]
     },
     "execution_count": 87,
     "metadata": {},
     "output_type": "execute_result"
    }
   ],
   "source": [
    "removePunctuation('The food! at this ,restaurant was? awful. Never g')"
   ]
  },
  {
   "cell_type": "code",
   "execution_count": 88,
   "id": "36a49cd2-0990-469a-9fad-b64726f26bf5",
   "metadata": {},
   "outputs": [],
   "source": [
    "def removeSpecial(text):\n",
    "    return re.sub(r'[^a-zA-Z\\s]','', text)"
   ]
  },
  {
   "cell_type": "code",
   "execution_count": 77,
   "id": "078a0516-6596-4790-a59b-9f9768559530",
   "metadata": {},
   "outputs": [
    {
     "data": {
      "text/plain": [
       "'The food at this  restaurant was awful Never g'"
      ]
     },
     "execution_count": 77,
     "metadata": {},
     "output_type": "execute_result"
    }
   ],
   "source": [
    "removeSpecial('The food at this 😁 restaurant was awful. Never g')"
   ]
  },
  {
   "cell_type": "code",
   "execution_count": 78,
   "id": "b50a9caf-e48f-457a-990f-0091158549a4",
   "metadata": {},
   "outputs": [],
   "source": [
    "def removeWhite(text):\n",
    "    return re.sub(r'\\s+', ' ', text)"
   ]
  },
  {
   "cell_type": "code",
   "execution_count": 79,
   "id": "4a1fbc97-cc68-4240-8a34-c1373331a390",
   "metadata": {},
   "outputs": [
    {
     "data": {
      "text/plain": [
       "'The food at this restaurant was awful . Never g'"
      ]
     },
     "execution_count": 79,
     "metadata": {},
     "output_type": "execute_result"
    }
   ],
   "source": [
    "removeWhite('The   food at this restaurant was awful   .   Never g')"
   ]
  },
  {
   "cell_type": "code",
   "execution_count": 54,
   "id": "9f446fc7-67fa-49a4-ae3f-c88aeb1c2e9f",
   "metadata": {},
   "outputs": [
    {
     "name": "stderr",
     "output_type": "stream",
     "text": [
      "[nltk_data] Downloading package stopwords to\n",
      "[nltk_data]     C:\\Users\\s_nas\\AppData\\Roaming\\nltk_data...\n",
      "[nltk_data]   Package stopwords is already up-to-date!\n"
     ]
    },
    {
     "data": {
      "text/plain": [
       "True"
      ]
     },
     "execution_count": 54,
     "metadata": {},
     "output_type": "execute_result"
    }
   ],
   "source": [
    "import nltk\n",
    "nltk.download('stopwords')"
   ]
  },
  {
   "cell_type": "code",
   "execution_count": 55,
   "id": "0eeeec22-ae87-4c9f-bb9e-25d95610cff0",
   "metadata": {},
   "outputs": [],
   "source": [
    "from nltk.corpus import stopwords"
   ]
  },
  {
   "cell_type": "code",
   "execution_count": 56,
   "id": "fc297100-2c5f-43e3-b0b1-4732651b39bc",
   "metadata": {},
   "outputs": [
    {
     "data": {
      "text/plain": [
       "198"
      ]
     },
     "execution_count": 56,
     "metadata": {},
     "output_type": "execute_result"
    }
   ],
   "source": [
    "len(stopwords.words('english'))"
   ]
  },
  {
   "cell_type": "code",
   "execution_count": 57,
   "id": "fe515c02-da07-42bc-9d67-e0bee8a5ca80",
   "metadata": {},
   "outputs": [
    {
     "name": "stderr",
     "output_type": "stream",
     "text": [
      "[nltk_data] Downloading package punkt to\n",
      "[nltk_data]     C:\\Users\\s_nas\\AppData\\Roaming\\nltk_data...\n",
      "[nltk_data]   Package punkt is already up-to-date!\n"
     ]
    },
    {
     "data": {
      "text/plain": [
       "True"
      ]
     },
     "execution_count": 57,
     "metadata": {},
     "output_type": "execute_result"
    }
   ],
   "source": [
    "nltk.download('punkt')"
   ]
  },
  {
   "cell_type": "code",
   "execution_count": 58,
   "id": "a6d623cc-f615-49db-9ebc-87c1660b7f04",
   "metadata": {},
   "outputs": [
    {
     "name": "stderr",
     "output_type": "stream",
     "text": [
      "[nltk_data] Downloading package punkt_tab to\n",
      "[nltk_data]     C:\\Users\\s_nas\\AppData\\Roaming\\nltk_data...\n",
      "[nltk_data]   Package punkt_tab is already up-to-date!\n"
     ]
    },
    {
     "data": {
      "text/plain": [
       "True"
      ]
     },
     "execution_count": 58,
     "metadata": {},
     "output_type": "execute_result"
    }
   ],
   "source": [
    "nltk.download('punkt_tab')"
   ]
  },
  {
   "cell_type": "code",
   "execution_count": 59,
   "id": "384d9cb2-f098-4dff-9e9b-948021611668",
   "metadata": {},
   "outputs": [],
   "source": [
    "from nltk.tokenize import word_tokenize"
   ]
  },
  {
   "cell_type": "code",
   "execution_count": 60,
   "id": "22ecd550-ea83-4b9a-9f90-1a973739adae",
   "metadata": {},
   "outputs": [],
   "source": [
    "stop_words = set(stopwords.words('english'))"
   ]
  },
  {
   "cell_type": "code",
   "execution_count": 61,
   "id": "1a96dc7d-6923-446b-ad47-ad3f3e0fb317",
   "metadata": {},
   "outputs": [],
   "source": [
    "def removeStop(text):\n",
    "    words = word_tokenize(text)\n",
    "    filtered = [word for word in words if word not in stop_words]\n",
    "    return ' '.join(filtered)\n",
    "\n",
    "\n",
    "# for i in words:\n",
    "#     if i not in stop_words:\n",
    "#     print(i)"
   ]
  },
  {
   "cell_type": "code",
   "execution_count": 80,
   "id": "01480f92-3c43-46db-a151-eed80a86d783",
   "metadata": {},
   "outputs": [
    {
     "data": {
      "text/plain": [
       "'The food restaurant awful . Never g'"
      ]
     },
     "execution_count": 80,
     "metadata": {},
     "output_type": "execute_result"
    }
   ],
   "source": [
    "removeStop('The food😁 at this restaurant    was awful.   Never g😁')"
   ]
  },
  {
   "cell_type": "code",
   "execution_count": 83,
   "id": "66e936d6-22f5-4e21-a6fc-97576937abe7",
   "metadata": {},
   "outputs": [],
   "source": [
    "def clean_text(text):\n",
    "    text = toLowerCase(text)\n",
    "    text = removePunctuation(text)\n",
    "    text = removeSpeacial(text)\n",
    "    text = removeWhite(text)\n",
    "    text = removeStop(text)\n",
    "    return text"
   ]
  },
  {
   "cell_type": "code",
   "execution_count": 84,
   "id": "8e134dac-c020-4c96-b81c-2a2df704d342",
   "metadata": {},
   "outputs": [
    {
     "data": {
      "text/plain": [
       "'food restaurant awful never g'"
      ]
     },
     "execution_count": 84,
     "metadata": {},
     "output_type": "execute_result"
    }
   ],
   "source": [
    "clean_text('The food😁 at this restaurant    was awful.   Never g😁')"
   ]
  },
  {
   "cell_type": "code",
   "execution_count": 85,
   "id": "35123482-4f48-4fb5-b256-2b273ba40e49",
   "metadata": {},
   "outputs": [],
   "source": [
    "df['Clean'] = df['Text'].apply(clean_text)"
   ]
  },
  {
   "cell_type": "code",
   "execution_count": 86,
   "id": "da10c09a-5981-49b7-b830-1130d2ae6e50",
   "metadata": {},
   "outputs": [
    {
     "data": {
      "text/html": [
       "<div>\n",
       "<style scoped>\n",
       "    .dataframe tbody tr th:only-of-type {\n",
       "        vertical-align: middle;\n",
       "    }\n",
       "\n",
       "    .dataframe tbody tr th {\n",
       "        vertical-align: top;\n",
       "    }\n",
       "\n",
       "    .dataframe thead th {\n",
       "        text-align: right;\n",
       "    }\n",
       "</style>\n",
       "<table border=\"1\" class=\"dataframe\">\n",
       "  <thead>\n",
       "    <tr style=\"text-align: right;\">\n",
       "      <th></th>\n",
       "      <th>Text</th>\n",
       "      <th>Sentiment</th>\n",
       "      <th>Source</th>\n",
       "      <th>Date/Time</th>\n",
       "      <th>User ID</th>\n",
       "      <th>Location</th>\n",
       "      <th>Confidence Score</th>\n",
       "      <th>Clean</th>\n",
       "    </tr>\n",
       "  </thead>\n",
       "  <tbody>\n",
       "    <tr>\n",
       "      <th>0</th>\n",
       "      <td>I love this product!</td>\n",
       "      <td>Positive</td>\n",
       "      <td>Twitter</td>\n",
       "      <td>2023-06-15 09:23:14</td>\n",
       "      <td>@user123</td>\n",
       "      <td>New York</td>\n",
       "      <td>0.85</td>\n",
       "      <td>love product</td>\n",
       "    </tr>\n",
       "    <tr>\n",
       "      <th>1</th>\n",
       "      <td>The service was terrible.</td>\n",
       "      <td>Negative</td>\n",
       "      <td>Yelp Reviews</td>\n",
       "      <td>2023-06-15 11:45:32</td>\n",
       "      <td>user456</td>\n",
       "      <td>Los Angeles</td>\n",
       "      <td>0.65</td>\n",
       "      <td>service terrible</td>\n",
       "    </tr>\n",
       "    <tr>\n",
       "      <th>2</th>\n",
       "      <td>This movie is amazing!</td>\n",
       "      <td>Positive</td>\n",
       "      <td>IMDb</td>\n",
       "      <td>2023-06-15 14:10:22</td>\n",
       "      <td>moviefan789</td>\n",
       "      <td>London</td>\n",
       "      <td>0.92</td>\n",
       "      <td>movie amazing</td>\n",
       "    </tr>\n",
       "    <tr>\n",
       "      <th>3</th>\n",
       "      <td>I'm so disappointed with their customer support.</td>\n",
       "      <td>Negative</td>\n",
       "      <td>Online Forum</td>\n",
       "      <td>2023-06-15 17:35:11</td>\n",
       "      <td>forumuser1</td>\n",
       "      <td>Toronto</td>\n",
       "      <td>0.78</td>\n",
       "      <td>im disappointed customer support</td>\n",
       "    </tr>\n",
       "    <tr>\n",
       "      <th>4</th>\n",
       "      <td>Just had the best meal of my life!</td>\n",
       "      <td>Positive</td>\n",
       "      <td>TripAdvisor</td>\n",
       "      <td>2023-06-16 08:50:59</td>\n",
       "      <td>foodie22</td>\n",
       "      <td>Paris</td>\n",
       "      <td>0.88</td>\n",
       "      <td>best meal life</td>\n",
       "    </tr>\n",
       "    <tr>\n",
       "      <th>...</th>\n",
       "      <td>...</td>\n",
       "      <td>...</td>\n",
       "      <td>...</td>\n",
       "      <td>...</td>\n",
       "      <td>...</td>\n",
       "      <td>...</td>\n",
       "      <td>...</td>\n",
       "      <td>...</td>\n",
       "    </tr>\n",
       "    <tr>\n",
       "      <th>91</th>\n",
       "      <td>Just had the most amazing vacation! I can't wa...</td>\n",
       "      <td>Positive</td>\n",
       "      <td>TripAdvisor</td>\n",
       "      <td>2023-07-02 18:01:23</td>\n",
       "      <td>travelenthusiast1</td>\n",
       "      <td>Sydney</td>\n",
       "      <td>0.93</td>\n",
       "      <td>amazing vacation cant wait go back</td>\n",
       "    </tr>\n",
       "    <tr>\n",
       "      <th>92</th>\n",
       "      <td>The food at this restaurant was awful. Never g...</td>\n",
       "      <td>Negative</td>\n",
       "      <td>Zomato</td>\n",
       "      <td>2023-07-02 20:45:37</td>\n",
       "      <td>foodlover123</td>\n",
       "      <td>Mumbai</td>\n",
       "      <td>0.55</td>\n",
       "      <td>food restaurant awful never going back</td>\n",
       "    </tr>\n",
       "    <tr>\n",
       "      <th>93</th>\n",
       "      <td>I can't stop listening to this song. It's my n...</td>\n",
       "      <td>Positive</td>\n",
       "      <td>Spotify</td>\n",
       "      <td>2023-07-03 09:17:52</td>\n",
       "      <td>musiclover789</td>\n",
       "      <td>Berlin</td>\n",
       "      <td>0.91</td>\n",
       "      <td>cant stop listening song new favorite</td>\n",
       "    </tr>\n",
       "    <tr>\n",
       "      <th>94</th>\n",
       "      <td>Their website is so confusing and poorly desig...</td>\n",
       "      <td>Negative</td>\n",
       "      <td>Website Review</td>\n",
       "      <td>2023-07-03 11:59:18</td>\n",
       "      <td>user789</td>\n",
       "      <td>Toronto</td>\n",
       "      <td>0.68</td>\n",
       "      <td>website confusing poorly designed</td>\n",
       "    </tr>\n",
       "    <tr>\n",
       "      <th>95</th>\n",
       "      <td>I had an incredible experience at the theme pa...</td>\n",
       "      <td>Positive</td>\n",
       "      <td>Trip Report</td>\n",
       "      <td>2023-07-03 14:40:05</td>\n",
       "      <td>thrillseeker1</td>\n",
       "      <td>Orlando</td>\n",
       "      <td>0.89</td>\n",
       "      <td>incredible experience theme park much fun</td>\n",
       "    </tr>\n",
       "  </tbody>\n",
       "</table>\n",
       "<p>96 rows × 8 columns</p>\n",
       "</div>"
      ],
      "text/plain": [
       "                                                 Text  Sentiment  \\\n",
       "0                                I love this product!   Positive   \n",
       "1                           The service was terrible.   Negative   \n",
       "2                              This movie is amazing!   Positive   \n",
       "3    I'm so disappointed with their customer support.   Negative   \n",
       "4                  Just had the best meal of my life!   Positive   \n",
       "..                                                ...        ...   \n",
       "91  Just had the most amazing vacation! I can't wa...   Positive   \n",
       "92  The food at this restaurant was awful. Never g...   Negative   \n",
       "93  I can't stop listening to this song. It's my n...   Positive   \n",
       "94  Their website is so confusing and poorly desig...   Negative   \n",
       "95  I had an incredible experience at the theme pa...   Positive   \n",
       "\n",
       "             Source             Date/Time             User ID      Location  \\\n",
       "0           Twitter   2023-06-15 09:23:14            @user123      New York   \n",
       "1      Yelp Reviews   2023-06-15 11:45:32             user456   Los Angeles   \n",
       "2              IMDb   2023-06-15 14:10:22         moviefan789        London   \n",
       "3      Online Forum   2023-06-15 17:35:11          forumuser1       Toronto   \n",
       "4       TripAdvisor   2023-06-16 08:50:59            foodie22         Paris   \n",
       "..              ...                   ...                 ...           ...   \n",
       "91      TripAdvisor   2023-07-02 18:01:23   travelenthusiast1        Sydney   \n",
       "92           Zomato   2023-07-02 20:45:37        foodlover123        Mumbai   \n",
       "93          Spotify   2023-07-03 09:17:52       musiclover789        Berlin   \n",
       "94   Website Review   2023-07-03 11:59:18             user789       Toronto   \n",
       "95      Trip Report   2023-07-03 14:40:05       thrillseeker1       Orlando   \n",
       "\n",
       "     Confidence Score                                      Clean  \n",
       "0                0.85                               love product  \n",
       "1                0.65                           service terrible  \n",
       "2                0.92                              movie amazing  \n",
       "3                0.78           im disappointed customer support  \n",
       "4                0.88                             best meal life  \n",
       "..                ...                                        ...  \n",
       "91               0.93         amazing vacation cant wait go back  \n",
       "92               0.55     food restaurant awful never going back  \n",
       "93               0.91      cant stop listening song new favorite  \n",
       "94               0.68          website confusing poorly designed  \n",
       "95               0.89  incredible experience theme park much fun  \n",
       "\n",
       "[96 rows x 8 columns]"
      ]
     },
     "execution_count": 86,
     "metadata": {},
     "output_type": "execute_result"
    }
   ],
   "source": [
    "df"
   ]
  },
  {
   "cell_type": "code",
   "execution_count": 90,
   "id": "0236470a-3878-4283-a482-6ee76ad5e636",
   "metadata": {},
   "outputs": [],
   "source": [
    "comp = df[['Text', 'Clean']]"
   ]
  },
  {
   "cell_type": "code",
   "execution_count": 91,
   "id": "94e98663-26dc-4a35-b774-6fd102d87a8f",
   "metadata": {},
   "outputs": [
    {
     "data": {
      "text/html": [
       "<div>\n",
       "<style scoped>\n",
       "    .dataframe tbody tr th:only-of-type {\n",
       "        vertical-align: middle;\n",
       "    }\n",
       "\n",
       "    .dataframe tbody tr th {\n",
       "        vertical-align: top;\n",
       "    }\n",
       "\n",
       "    .dataframe thead th {\n",
       "        text-align: right;\n",
       "    }\n",
       "</style>\n",
       "<table border=\"1\" class=\"dataframe\">\n",
       "  <thead>\n",
       "    <tr style=\"text-align: right;\">\n",
       "      <th></th>\n",
       "      <th>Text</th>\n",
       "      <th>Clean</th>\n",
       "    </tr>\n",
       "  </thead>\n",
       "  <tbody>\n",
       "    <tr>\n",
       "      <th>0</th>\n",
       "      <td>I love this product!</td>\n",
       "      <td>love product</td>\n",
       "    </tr>\n",
       "    <tr>\n",
       "      <th>1</th>\n",
       "      <td>The service was terrible.</td>\n",
       "      <td>service terrible</td>\n",
       "    </tr>\n",
       "    <tr>\n",
       "      <th>2</th>\n",
       "      <td>This movie is amazing!</td>\n",
       "      <td>movie amazing</td>\n",
       "    </tr>\n",
       "    <tr>\n",
       "      <th>3</th>\n",
       "      <td>I'm so disappointed with their customer support.</td>\n",
       "      <td>im disappointed customer support</td>\n",
       "    </tr>\n",
       "    <tr>\n",
       "      <th>4</th>\n",
       "      <td>Just had the best meal of my life!</td>\n",
       "      <td>best meal life</td>\n",
       "    </tr>\n",
       "    <tr>\n",
       "      <th>...</th>\n",
       "      <td>...</td>\n",
       "      <td>...</td>\n",
       "    </tr>\n",
       "    <tr>\n",
       "      <th>91</th>\n",
       "      <td>Just had the most amazing vacation! I can't wa...</td>\n",
       "      <td>amazing vacation cant wait go back</td>\n",
       "    </tr>\n",
       "    <tr>\n",
       "      <th>92</th>\n",
       "      <td>The food at this restaurant was awful. Never g...</td>\n",
       "      <td>food restaurant awful never going back</td>\n",
       "    </tr>\n",
       "    <tr>\n",
       "      <th>93</th>\n",
       "      <td>I can't stop listening to this song. It's my n...</td>\n",
       "      <td>cant stop listening song new favorite</td>\n",
       "    </tr>\n",
       "    <tr>\n",
       "      <th>94</th>\n",
       "      <td>Their website is so confusing and poorly desig...</td>\n",
       "      <td>website confusing poorly designed</td>\n",
       "    </tr>\n",
       "    <tr>\n",
       "      <th>95</th>\n",
       "      <td>I had an incredible experience at the theme pa...</td>\n",
       "      <td>incredible experience theme park much fun</td>\n",
       "    </tr>\n",
       "  </tbody>\n",
       "</table>\n",
       "<p>96 rows × 2 columns</p>\n",
       "</div>"
      ],
      "text/plain": [
       "                                                 Text  \\\n",
       "0                                I love this product!   \n",
       "1                           The service was terrible.   \n",
       "2                              This movie is amazing!   \n",
       "3    I'm so disappointed with their customer support.   \n",
       "4                  Just had the best meal of my life!   \n",
       "..                                                ...   \n",
       "91  Just had the most amazing vacation! I can't wa...   \n",
       "92  The food at this restaurant was awful. Never g...   \n",
       "93  I can't stop listening to this song. It's my n...   \n",
       "94  Their website is so confusing and poorly desig...   \n",
       "95  I had an incredible experience at the theme pa...   \n",
       "\n",
       "                                        Clean  \n",
       "0                                love product  \n",
       "1                            service terrible  \n",
       "2                               movie amazing  \n",
       "3            im disappointed customer support  \n",
       "4                              best meal life  \n",
       "..                                        ...  \n",
       "91         amazing vacation cant wait go back  \n",
       "92     food restaurant awful never going back  \n",
       "93      cant stop listening song new favorite  \n",
       "94          website confusing poorly designed  \n",
       "95  incredible experience theme park much fun  \n",
       "\n",
       "[96 rows x 2 columns]"
      ]
     },
     "execution_count": 91,
     "metadata": {},
     "output_type": "execute_result"
    }
   ],
   "source": [
    "comp"
   ]
  },
  {
   "cell_type": "code",
   "execution_count": 117,
   "id": "7723d8f4-a5d1-487a-a308-ab485d09bf13",
   "metadata": {},
   "outputs": [],
   "source": [
    "import numpy as np\n",
    "text = ['I love Programming', 'Python is awesome', 'AI is fun', 'Bugs are terrible']\n",
    "labels = np.array([1, 1, 1, 0])"
   ]
  },
  {
   "cell_type": "code",
   "execution_count": 118,
   "id": "00a30e12-6074-485f-b8c3-ae5ab62bb13c",
   "metadata": {},
   "outputs": [],
   "source": [
    "import tensorflow as tf\n",
    "from tensorflow.keras.models import Sequential\n",
    "from tensorflow.keras.layers import Embedding, SimpleRNN, Dense\n",
    "from tensorflow.keras.preprocessing.text import Tokenizer\n",
    "from tensorflow.keras.preprocessing.sequence import pad_sequences"
   ]
  },
  {
   "cell_type": "code",
   "execution_count": 119,
   "id": "d61d8711-e66b-4e24-976d-35ccc00d9ba4",
   "metadata": {},
   "outputs": [],
   "source": [
    "tokenizer = Tokenizer(num_words = 1000)"
   ]
  },
  {
   "cell_type": "code",
   "execution_count": 120,
   "id": "a0102431-5b40-4a18-bbda-406826c313e2",
   "metadata": {},
   "outputs": [],
   "source": [
    "tokenizer.fit_on_texts(text)"
   ]
  },
  {
   "cell_type": "code",
   "execution_count": 121,
   "id": "be967d56-0820-42e8-b240-0857bd28cb40",
   "metadata": {},
   "outputs": [],
   "source": [
    "seq = tokenizer.texts_to_sequences(text)"
   ]
  },
  {
   "cell_type": "code",
   "execution_count": 122,
   "id": "f9b1fdd0-b83c-40dd-97c3-74b4482f2def",
   "metadata": {},
   "outputs": [
    {
     "data": {
      "text/plain": [
       "[[2, 3, 4], [5, 1, 6], [7, 1, 8], [9, 10, 11]]"
      ]
     },
     "execution_count": 122,
     "metadata": {},
     "output_type": "execute_result"
    }
   ],
   "source": [
    "seq\n",
    "#['I love Programming', 'Python is awesome', 'AI is fun', 'Bugs are terrible']"
   ]
  },
  {
   "cell_type": "code",
   "execution_count": 123,
   "id": "1ae08329-fe4b-4610-b809-186a9c3be653",
   "metadata": {},
   "outputs": [],
   "source": [
    "pad  = pad_sequences(seq, maxlen=5)"
   ]
  },
  {
   "cell_type": "code",
   "execution_count": 124,
   "id": "cf6e8721-7020-4217-bc96-086018823662",
   "metadata": {},
   "outputs": [
    {
     "data": {
      "text/plain": [
       "array([[ 0,  0,  2,  3,  4],\n",
       "       [ 0,  0,  5,  1,  6],\n",
       "       [ 0,  0,  7,  1,  8],\n",
       "       [ 0,  0,  9, 10, 11]], dtype=int32)"
      ]
     },
     "execution_count": 124,
     "metadata": {},
     "output_type": "execute_result"
    }
   ],
   "source": [
    "pad"
   ]
  },
  {
   "cell_type": "code",
   "execution_count": 125,
   "id": "947f4aeb-5db5-4e46-be62-e8109806c88b",
   "metadata": {},
   "outputs": [],
   "source": [
    "model = Sequential([\n",
    "    Embedding(input_dim=1000, output_dim=16, input_length=5),\n",
    "    SimpleRNN(16),\n",
    "    Dense(1, activation='sigmoid')\n",
    "])"
   ]
  },
  {
   "cell_type": "code",
   "execution_count": 126,
   "id": "38180975-7fe8-4e34-9a0a-e32e992877a5",
   "metadata": {},
   "outputs": [],
   "source": [
    "model.compile(optimizer= 'adam', loss='binary_crossentropy', metrics=['accuracy'])"
   ]
  },
  {
   "cell_type": "code",
   "execution_count": 128,
   "id": "208aa7dd-7ae9-4404-942e-9dd9848e6fbf",
   "metadata": {},
   "outputs": [
    {
     "name": "stdout",
     "output_type": "stream",
     "text": [
      "Epoch 1/25\n",
      "\u001b[1m1/1\u001b[0m \u001b[32m━━━━━━━━━━━━━━━━━━━━\u001b[0m\u001b[37m\u001b[0m \u001b[1m0s\u001b[0m 74ms/step - accuracy: 0.7500 - loss: 0.6541\n",
      "Epoch 2/25\n",
      "\u001b[1m1/1\u001b[0m \u001b[32m━━━━━━━━━━━━━━━━━━━━\u001b[0m\u001b[37m\u001b[0m \u001b[1m0s\u001b[0m 79ms/step - accuracy: 0.7500 - loss: 0.6382\n",
      "Epoch 3/25\n",
      "\u001b[1m1/1\u001b[0m \u001b[32m━━━━━━━━━━━━━━━━━━━━\u001b[0m\u001b[37m\u001b[0m \u001b[1m0s\u001b[0m 80ms/step - accuracy: 0.7500 - loss: 0.6229\n",
      "Epoch 4/25\n",
      "\u001b[1m1/1\u001b[0m \u001b[32m━━━━━━━━━━━━━━━━━━━━\u001b[0m\u001b[37m\u001b[0m \u001b[1m0s\u001b[0m 80ms/step - accuracy: 0.7500 - loss: 0.6081\n",
      "Epoch 5/25\n",
      "\u001b[1m1/1\u001b[0m \u001b[32m━━━━━━━━━━━━━━━━━━━━\u001b[0m\u001b[37m\u001b[0m \u001b[1m0s\u001b[0m 80ms/step - accuracy: 0.7500 - loss: 0.5938\n",
      "Epoch 6/25\n",
      "\u001b[1m1/1\u001b[0m \u001b[32m━━━━━━━━━━━━━━━━━━━━\u001b[0m\u001b[37m\u001b[0m \u001b[1m0s\u001b[0m 80ms/step - accuracy: 0.7500 - loss: 0.5800\n",
      "Epoch 7/25\n",
      "\u001b[1m1/1\u001b[0m \u001b[32m━━━━━━━━━━━━━━━━━━━━\u001b[0m\u001b[37m\u001b[0m \u001b[1m0s\u001b[0m 78ms/step - accuracy: 0.7500 - loss: 0.5667\n",
      "Epoch 8/25\n",
      "\u001b[1m1/1\u001b[0m \u001b[32m━━━━━━━━━━━━━━━━━━━━\u001b[0m\u001b[37m\u001b[0m \u001b[1m0s\u001b[0m 75ms/step - accuracy: 0.7500 - loss: 0.5538\n",
      "Epoch 9/25\n",
      "\u001b[1m1/1\u001b[0m \u001b[32m━━━━━━━━━━━━━━━━━━━━\u001b[0m\u001b[37m\u001b[0m \u001b[1m0s\u001b[0m 77ms/step - accuracy: 0.7500 - loss: 0.5415\n",
      "Epoch 10/25\n",
      "\u001b[1m1/1\u001b[0m \u001b[32m━━━━━━━━━━━━━━━━━━━━\u001b[0m\u001b[37m\u001b[0m \u001b[1m0s\u001b[0m 83ms/step - accuracy: 0.7500 - loss: 0.5296\n",
      "Epoch 11/25\n",
      "\u001b[1m1/1\u001b[0m \u001b[32m━━━━━━━━━━━━━━━━━━━━\u001b[0m\u001b[37m\u001b[0m \u001b[1m0s\u001b[0m 81ms/step - accuracy: 0.7500 - loss: 0.5181\n",
      "Epoch 12/25\n",
      "\u001b[1m1/1\u001b[0m \u001b[32m━━━━━━━━━━━━━━━━━━━━\u001b[0m\u001b[37m\u001b[0m \u001b[1m0s\u001b[0m 79ms/step - accuracy: 0.7500 - loss: 0.5072\n",
      "Epoch 13/25\n",
      "\u001b[1m1/1\u001b[0m \u001b[32m━━━━━━━━━━━━━━━━━━━━\u001b[0m\u001b[37m\u001b[0m \u001b[1m0s\u001b[0m 77ms/step - accuracy: 0.7500 - loss: 0.4968\n",
      "Epoch 14/25\n",
      "\u001b[1m1/1\u001b[0m \u001b[32m━━━━━━━━━━━━━━━━━━━━\u001b[0m\u001b[37m\u001b[0m \u001b[1m0s\u001b[0m 82ms/step - accuracy: 0.7500 - loss: 0.4869\n",
      "Epoch 15/25\n",
      "\u001b[1m1/1\u001b[0m \u001b[32m━━━━━━━━━━━━━━━━━━━━\u001b[0m\u001b[37m\u001b[0m \u001b[1m0s\u001b[0m 79ms/step - accuracy: 0.7500 - loss: 0.4774\n",
      "Epoch 16/25\n",
      "\u001b[1m1/1\u001b[0m \u001b[32m━━━━━━━━━━━━━━━━━━━━\u001b[0m\u001b[37m\u001b[0m \u001b[1m0s\u001b[0m 77ms/step - accuracy: 0.7500 - loss: 0.4684\n",
      "Epoch 17/25\n",
      "\u001b[1m1/1\u001b[0m \u001b[32m━━━━━━━━━━━━━━━━━━━━\u001b[0m\u001b[37m\u001b[0m \u001b[1m0s\u001b[0m 81ms/step - accuracy: 0.7500 - loss: 0.4598\n",
      "Epoch 18/25\n",
      "\u001b[1m1/1\u001b[0m \u001b[32m━━━━━━━━━━━━━━━━━━━━\u001b[0m\u001b[37m\u001b[0m \u001b[1m0s\u001b[0m 82ms/step - accuracy: 0.7500 - loss: 0.4515\n",
      "Epoch 19/25\n",
      "\u001b[1m1/1\u001b[0m \u001b[32m━━━━━━━━━━━━━━━━━━━━\u001b[0m\u001b[37m\u001b[0m \u001b[1m0s\u001b[0m 77ms/step - accuracy: 0.7500 - loss: 0.4436\n",
      "Epoch 20/25\n",
      "\u001b[1m1/1\u001b[0m \u001b[32m━━━━━━━━━━━━━━━━━━━━\u001b[0m\u001b[37m\u001b[0m \u001b[1m0s\u001b[0m 166ms/step - accuracy: 0.7500 - loss: 0.4359\n",
      "Epoch 21/25\n",
      "\u001b[1m1/1\u001b[0m \u001b[32m━━━━━━━━━━━━━━━━━━━━\u001b[0m\u001b[37m\u001b[0m \u001b[1m0s\u001b[0m 81ms/step - accuracy: 0.7500 - loss: 0.4283\n",
      "Epoch 22/25\n",
      "\u001b[1m1/1\u001b[0m \u001b[32m━━━━━━━━━━━━━━━━━━━━\u001b[0m\u001b[37m\u001b[0m \u001b[1m0s\u001b[0m 87ms/step - accuracy: 0.7500 - loss: 0.4208\n",
      "Epoch 23/25\n",
      "\u001b[1m1/1\u001b[0m \u001b[32m━━━━━━━━━━━━━━━━━━━━\u001b[0m\u001b[37m\u001b[0m \u001b[1m0s\u001b[0m 111ms/step - accuracy: 0.7500 - loss: 0.4133\n",
      "Epoch 24/25\n",
      "\u001b[1m1/1\u001b[0m \u001b[32m━━━━━━━━━━━━━━━━━━━━\u001b[0m\u001b[37m\u001b[0m \u001b[1m0s\u001b[0m 105ms/step - accuracy: 0.7500 - loss: 0.4057\n",
      "Epoch 25/25\n",
      "\u001b[1m1/1\u001b[0m \u001b[32m━━━━━━━━━━━━━━━━━━━━\u001b[0m\u001b[37m\u001b[0m \u001b[1m0s\u001b[0m 93ms/step - accuracy: 0.7500 - loss: 0.3980\n"
     ]
    },
    {
     "data": {
      "text/plain": [
       "<keras.src.callbacks.history.History at 0x22c9b961cd0>"
      ]
     },
     "execution_count": 128,
     "metadata": {},
     "output_type": "execute_result"
    }
   ],
   "source": [
    "model.fit(pad, labels, epochs=25)"
   ]
  },
  {
   "cell_type": "code",
   "execution_count": 149,
   "id": "ecd1800c-6331-401e-9a19-7850d2399754",
   "metadata": {},
   "outputs": [],
   "source": [
    "sample = ['I enjoy coding', 'Bugs are bad']\n",
    "sample_seq = tokenizer.texts_to_sequences(sample)\n",
    "sample_pad = pad_sequences(sample_seq, maxlen=5)"
   ]
  },
  {
   "cell_type": "code",
   "execution_count": 150,
   "id": "addddf9e-a270-4bd3-9cbc-5de77660c23d",
   "metadata": {},
   "outputs": [
    {
     "name": "stdout",
     "output_type": "stream",
     "text": [
      "\u001b[1m1/1\u001b[0m \u001b[32m━━━━━━━━━━━━━━━━━━━━\u001b[0m\u001b[37m\u001b[0m \u001b[1m0s\u001b[0m 62ms/step\n"
     ]
    },
    {
     "data": {
      "text/plain": [
       "array([[0.7528236 ],\n",
       "       [0.70032907]], dtype=float32)"
      ]
     },
     "execution_count": 150,
     "metadata": {},
     "output_type": "execute_result"
    }
   ],
   "source": [
    "model.predict(sample_pad)"
   ]
  },
  {
   "cell_type": "code",
   "execution_count": null,
   "id": "8cf13480-870f-47de-8779-bf1cb1d047c7",
   "metadata": {},
   "outputs": [],
   "source": []
  }
 ],
 "metadata": {
  "kernelspec": {
   "display_name": "Python 3 (ipykernel)",
   "language": "python",
   "name": "python3"
  },
  "language_info": {
   "codemirror_mode": {
    "name": "ipython",
    "version": 3
   },
   "file_extension": ".py",
   "mimetype": "text/x-python",
   "name": "python",
   "nbconvert_exporter": "python",
   "pygments_lexer": "ipython3",
   "version": "3.12.10"
  }
 },
 "nbformat": 4,
 "nbformat_minor": 5
}
