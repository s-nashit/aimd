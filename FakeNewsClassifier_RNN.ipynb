{
 "cells": [
  {
   "cell_type": "code",
   "execution_count": 11,
   "id": "a46f0c96-b124-4b72-8d11-d488ecb910c6",
   "metadata": {},
   "outputs": [],
   "source": [
    "import pandas as pd"
   ]
  },
  {
   "cell_type": "code",
   "execution_count": 12,
   "id": "4164ed20-62b7-4128-a3c1-256d1e7d637a",
   "metadata": {},
   "outputs": [],
   "source": [
    "df = pd.read_csv('Fake_Real_Data.csv')"
   ]
  },
  {
   "cell_type": "code",
   "execution_count": 13,
   "id": "d66b7b17-ebdd-49a6-bb85-1da74dd1b908",
   "metadata": {},
   "outputs": [],
   "source": [
    "df.drop_duplicates(inplace = True)"
   ]
  },
  {
   "cell_type": "code",
   "execution_count": 15,
   "id": "3518b0b6-5e05-4608-8cac-fd6b08942886",
   "metadata": {},
   "outputs": [
    {
     "data": {
      "text/html": [
       "<div>\n",
       "<style scoped>\n",
       "    .dataframe tbody tr th:only-of-type {\n",
       "        vertical-align: middle;\n",
       "    }\n",
       "\n",
       "    .dataframe tbody tr th {\n",
       "        vertical-align: top;\n",
       "    }\n",
       "\n",
       "    .dataframe thead th {\n",
       "        text-align: right;\n",
       "    }\n",
       "</style>\n",
       "<table border=\"1\" class=\"dataframe\">\n",
       "  <thead>\n",
       "    <tr style=\"text-align: right;\">\n",
       "      <th></th>\n",
       "      <th>Text</th>\n",
       "      <th>label</th>\n",
       "    </tr>\n",
       "  </thead>\n",
       "  <tbody>\n",
       "    <tr>\n",
       "      <th>0</th>\n",
       "      <td>Top Trump Surrogate BRUTALLY Stabs Him In The...</td>\n",
       "      <td>Fake</td>\n",
       "    </tr>\n",
       "  </tbody>\n",
       "</table>\n",
       "</div>"
      ],
      "text/plain": [
       "                                                Text label\n",
       "0   Top Trump Surrogate BRUTALLY Stabs Him In The...  Fake"
      ]
     },
     "execution_count": 15,
     "metadata": {},
     "output_type": "execute_result"
    }
   ],
   "source": [
    "df.head(1)"
   ]
  },
  {
   "cell_type": "code",
   "execution_count": 16,
   "id": "9def6c9e-2719-4426-a0b4-f44f8ef3a2e5",
   "metadata": {},
   "outputs": [],
   "source": [
    "df['Label'] = df['label'].map({'Fake':0, 'Real':1})"
   ]
  },
  {
   "cell_type": "code",
   "execution_count": 17,
   "id": "91520203-3eae-4811-8b31-907eacad1075",
   "metadata": {},
   "outputs": [
    {
     "data": {
      "text/html": [
       "<div>\n",
       "<style scoped>\n",
       "    .dataframe tbody tr th:only-of-type {\n",
       "        vertical-align: middle;\n",
       "    }\n",
       "\n",
       "    .dataframe tbody tr th {\n",
       "        vertical-align: top;\n",
       "    }\n",
       "\n",
       "    .dataframe thead th {\n",
       "        text-align: right;\n",
       "    }\n",
       "</style>\n",
       "<table border=\"1\" class=\"dataframe\">\n",
       "  <thead>\n",
       "    <tr style=\"text-align: right;\">\n",
       "      <th></th>\n",
       "      <th>Text</th>\n",
       "      <th>label</th>\n",
       "      <th>Label</th>\n",
       "    </tr>\n",
       "  </thead>\n",
       "  <tbody>\n",
       "    <tr>\n",
       "      <th>0</th>\n",
       "      <td>Top Trump Surrogate BRUTALLY Stabs Him In The...</td>\n",
       "      <td>Fake</td>\n",
       "      <td>0</td>\n",
       "    </tr>\n",
       "    <tr>\n",
       "      <th>1</th>\n",
       "      <td>U.S. conservative leader optimistic of common ...</td>\n",
       "      <td>Real</td>\n",
       "      <td>1</td>\n",
       "    </tr>\n",
       "  </tbody>\n",
       "</table>\n",
       "</div>"
      ],
      "text/plain": [
       "                                                Text label  Label\n",
       "0   Top Trump Surrogate BRUTALLY Stabs Him In The...  Fake      0\n",
       "1  U.S. conservative leader optimistic of common ...  Real      1"
      ]
     },
     "execution_count": 17,
     "metadata": {},
     "output_type": "execute_result"
    }
   ],
   "source": [
    "df.head(2)"
   ]
  },
  {
   "cell_type": "code",
   "execution_count": 18,
   "id": "a2f8fa37-1fd9-4a3b-81d6-25b599ce7b18",
   "metadata": {},
   "outputs": [],
   "source": [
    "import tensorflow as tf\n",
    "from tensorflow.keras.preprocessing .text import Tokenizer\n",
    "from tensorflow.keras.preprocessing.sequence import pad_sequences\n",
    "from tensorflow.keras.models import Sequential\n",
    "from tensorflow.keras.layers import Dense, LSTM, Embedding\n"
   ]
  },
  {
   "cell_type": "code",
   "execution_count": 19,
   "id": "69428556-56e7-4954-8e3c-5e9fb8c78e21",
   "metadata": {},
   "outputs": [],
   "source": [
    "t = Tokenizer(num_words = 5000)"
   ]
  },
  {
   "cell_type": "code",
   "execution_count": 20,
   "id": "dd6a8d5b-9f29-46eb-b5af-b80bd23cdc96",
   "metadata": {},
   "outputs": [],
   "source": [
    "t.fit_on_texts(df['Text'])"
   ]
  },
  {
   "cell_type": "code",
   "execution_count": 21,
   "id": "cdc77ecf-50fb-4ce3-8aeb-516d9c583c7a",
   "metadata": {},
   "outputs": [],
   "source": [
    "seq = t.texts_to_sequences(df['Text'])"
   ]
  },
  {
   "cell_type": "code",
   "execution_count": 23,
   "id": "315c20cb-bfca-4d69-8f81-abbdd72c2512",
   "metadata": {},
   "outputs": [],
   "source": [
    "import numpy as np\n",
    "x = pad_sequences(seq, maxlen=200)\n",
    "y = np.array(df['Label'])"
   ]
  },
  {
   "cell_type": "code",
   "execution_count": 25,
   "id": "ca03c23b-ccda-4c9a-a221-d5f082690bff",
   "metadata": {},
   "outputs": [
    {
     "name": "stderr",
     "output_type": "stream",
     "text": [
      "C:\\Users\\s_nas\\AppData\\Local\\Programs\\Python\\Python312\\Lib\\site-packages\\keras\\src\\layers\\core\\embedding.py:90: UserWarning: Argument `input_length` is deprecated. Just remove it.\n",
      "  warnings.warn(\n"
     ]
    }
   ],
   "source": [
    "model = Sequential([\n",
    "    Embedding(input_dim=5000, output_dim = 64, input_length = 200),\n",
    "    LSTM(32, return_sequences = True),\n",
    "    LSTM(32),\n",
    "    Dense(1, activation = 'sigmoid')\n",
    "])"
   ]
  },
  {
   "cell_type": "code",
   "execution_count": 26,
   "id": "cc677006-93ed-49a7-b5f5-0651fef3b389",
   "metadata": {},
   "outputs": [],
   "source": [
    "model.compile(optimizer='adam', loss= 'binary_crossentropy', metrics=['accuracy'])"
   ]
  },
  {
   "cell_type": "code",
   "execution_count": 27,
   "id": "08d84953-f938-4f9c-8d43-06b7336e21f3",
   "metadata": {},
   "outputs": [
    {
     "name": "stdout",
     "output_type": "stream",
     "text": [
      "Epoch 1/5\n",
      "\u001b[1m309/309\u001b[0m \u001b[32m━━━━━━━━━━━━━━━━━━━━\u001b[0m\u001b[37m\u001b[0m \u001b[1m40s\u001b[0m 113ms/step - accuracy: 0.9632 - loss: 0.2041\n",
      "Epoch 2/5\n",
      "\u001b[1m309/309\u001b[0m \u001b[32m━━━━━━━━━━━━━━━━━━━━\u001b[0m\u001b[37m\u001b[0m \u001b[1m35s\u001b[0m 113ms/step - accuracy: 0.9985 - loss: 0.0065\n",
      "Epoch 3/5\n",
      "\u001b[1m309/309\u001b[0m \u001b[32m━━━━━━━━━━━━━━━━━━━━\u001b[0m\u001b[37m\u001b[0m \u001b[1m35s\u001b[0m 113ms/step - accuracy: 1.0000 - loss: 7.7829e-04\n",
      "Epoch 4/5\n",
      "\u001b[1m309/309\u001b[0m \u001b[32m━━━━━━━━━━━━━━━━━━━━\u001b[0m\u001b[37m\u001b[0m \u001b[1m35s\u001b[0m 114ms/step - accuracy: 1.0000 - loss: 4.0796e-04\n",
      "Epoch 5/5\n",
      "\u001b[1m309/309\u001b[0m \u001b[32m━━━━━━━━━━━━━━━━━━━━\u001b[0m\u001b[37m\u001b[0m \u001b[1m35s\u001b[0m 113ms/step - accuracy: 1.0000 - loss: 1.9336e-04\n"
     ]
    },
    {
     "data": {
      "text/plain": [
       "<keras.src.callbacks.history.History at 0x13b6b1271d0>"
      ]
     },
     "execution_count": 27,
     "metadata": {},
     "output_type": "execute_result"
    }
   ],
   "source": [
    "model.fit(x,y, epochs=5)"
   ]
  },
  {
   "cell_type": "code",
   "execution_count": 28,
   "id": "335a0b19-794b-45a3-9c22-af28da4e2f88",
   "metadata": {},
   "outputs": [],
   "source": [
    "def classify(news):\n",
    "    seq = t.texts_to_sequences([news])\n",
    "    padded = pad_sequences(seq, maxlen=200)\n",
    "    pred = model.predict(padded)[0][0]\n",
    "    return 'REAL' if pred>0.5 else 'FAKE'"
   ]
  },
  {
   "cell_type": "code",
   "execution_count": 29,
   "id": "f2f48045-58c1-4817-9971-c281d0ab20d4",
   "metadata": {},
   "outputs": [
    {
     "name": "stdout",
     "output_type": "stream",
     "text": [
      "\u001b[1m1/1\u001b[0m \u001b[32m━━━━━━━━━━━━━━━━━━━━\u001b[0m\u001b[37m\u001b[0m \u001b[1m0s\u001b[0m 488ms/step\n"
     ]
    },
    {
     "data": {
      "text/plain": [
       "'REAL'"
      ]
     },
     "execution_count": 29,
     "metadata": {},
     "output_type": "execute_result"
    }
   ],
   "source": [
    "classify('''Gaurav Kundi, a 42-year-old Indian-origin man, is on life support with severe brain and nerve damage after Australian police assaulted him in Adelaide's eastern suburbs. His wife Amritpal Kaur said that the officers pinned him down on Payneham Road during the arrest, slamming his head against a car and then onto the road.''')"
   ]
  },
  {
   "cell_type": "code",
   "execution_count": 30,
   "id": "a11e2496-1ffc-4956-9a9f-ef7980a85428",
   "metadata": {},
   "outputs": [
    {
     "name": "stdout",
     "output_type": "stream",
     "text": [
      "\u001b[1m1/1\u001b[0m \u001b[32m━━━━━━━━━━━━━━━━━━━━\u001b[0m\u001b[37m\u001b[0m \u001b[1m0s\u001b[0m 86ms/step\n"
     ]
    },
    {
     "data": {
      "text/plain": [
       "'REAL'"
      ]
     },
     "execution_count": 30,
     "metadata": {},
     "output_type": "execute_result"
    }
   ],
   "source": [
    "classify('''An attack that injured 12 people at a Colorado event in support of Israeli hostages in Gaza is intensifying fears over rising antisemitism and violence against Jews in the US. Authorities on Sunday detained Mohamed Soliman for allegedly throwing two Molotov cocktails into a pro-Israel crowd and using a flamethrower at the event in Boulder. The suspect yelled \"Free Palestine\" during the attack, according to law enforcement.''')"
   ]
  },
  {
   "cell_type": "code",
   "execution_count": 31,
   "id": "47fe97d4-4223-4f8e-b456-7734dbcf0917",
   "metadata": {},
   "outputs": [
    {
     "name": "stdin",
     "output_type": "stream",
     "text": [
      "enter news United States second lady Usha Vance termed the India-US relationship as one that is \"very personal\" for her, adding that this is a time of \"great opportunity\" for ties between the two nations, whose relationship has \"ebbed and flowed at times\". She said this during a chat at the eighth edition of the US-India Strategic Partnership Forum (USISPF) Leadership Summit.\n"
     ]
    },
    {
     "name": "stdout",
     "output_type": "stream",
     "text": [
      "\u001b[1m1/1\u001b[0m \u001b[32m━━━━━━━━━━━━━━━━━━━━\u001b[0m\u001b[37m\u001b[0m \u001b[1m0s\u001b[0m 82ms/step\n"
     ]
    },
    {
     "data": {
      "text/plain": [
       "'REAL'"
      ]
     },
     "execution_count": 31,
     "metadata": {},
     "output_type": "execute_result"
    }
   ],
   "source": [
    "user = input('enter news')\n",
    "classify(user)"
   ]
  },
  {
   "cell_type": "code",
   "execution_count": null,
   "id": "42a17e6b-eb48-4f2b-947e-8b93f4213506",
   "metadata": {},
   "outputs": [],
   "source": []
  }
 ],
 "metadata": {
  "kernelspec": {
   "display_name": "Python 3 (ipykernel)",
   "language": "python",
   "name": "python3"
  },
  "language_info": {
   "codemirror_mode": {
    "name": "ipython",
    "version": 3
   },
   "file_extension": ".py",
   "mimetype": "text/x-python",
   "name": "python",
   "nbconvert_exporter": "python",
   "pygments_lexer": "ipython3",
   "version": "3.12.10"
  }
 },
 "nbformat": 4,
 "nbformat_minor": 5
}
