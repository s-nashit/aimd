{
 "cells": [
  {
   "cell_type": "code",
   "execution_count": 1,
   "id": "ed989bd7-cacd-4855-85a1-c5a96203b305",
   "metadata": {},
   "outputs": [],
   "source": [
    "url='https://raw.githubusercontent.com/ramar92/NLP-Dataset/main/customer_reviews.csv'"
   ]
  },
  {
   "cell_type": "code",
   "execution_count": 2,
   "id": "a9991a93-68f1-4ccc-a5f0-341df980afca",
   "metadata": {},
   "outputs": [],
   "source": [
    "import pandas as pd\n",
    "import nltk\n",
    "from nltk.sentiment import SentimentIntensityAnalyzer\n",
    "import requests"
   ]
  },
  {
   "cell_type": "code",
   "execution_count": 3,
   "id": "b9b47ba1-45ee-45f4-b9f4-2a9506182547",
   "metadata": {},
   "outputs": [],
   "source": [
    "df = pd.read_csv(url)"
   ]
  },
  {
   "cell_type": "code",
   "execution_count": 4,
   "id": "dd5b8f3c-e579-4d4a-b00b-92bc60777a2a",
   "metadata": {},
   "outputs": [
    {
     "data": {
      "text/html": [
       "<div>\n",
       "<style scoped>\n",
       "    .dataframe tbody tr th:only-of-type {\n",
       "        vertical-align: middle;\n",
       "    }\n",
       "\n",
       "    .dataframe tbody tr th {\n",
       "        vertical-align: top;\n",
       "    }\n",
       "\n",
       "    .dataframe thead th {\n",
       "        text-align: right;\n",
       "    }\n",
       "</style>\n",
       "<table border=\"1\" class=\"dataframe\">\n",
       "  <thead>\n",
       "    <tr style=\"text-align: right;\">\n",
       "      <th></th>\n",
       "      <th>Review</th>\n",
       "    </tr>\n",
       "  </thead>\n",
       "  <tbody>\n",
       "    <tr>\n",
       "      <th>0</th>\n",
       "      <td>I love this product! It's amazing and works pe...</td>\n",
       "    </tr>\n",
       "    <tr>\n",
       "      <th>1</th>\n",
       "      <td>This is the worst experience I've ever had.</td>\n",
       "    </tr>\n",
       "    <tr>\n",
       "      <th>2</th>\n",
       "      <td>The product is okay, but I expected something ...</td>\n",
       "    </tr>\n",
       "    <tr>\n",
       "      <th>3</th>\n",
       "      <td>Absolutely fantastic! Would buy again.</td>\n",
       "    </tr>\n",
       "    <tr>\n",
       "      <th>4</th>\n",
       "      <td>Not worth the price. Completely disappointed.</td>\n",
       "    </tr>\n",
       "    <tr>\n",
       "      <th>5</th>\n",
       "      <td>Customer service was helpful, but the product ...</td>\n",
       "    </tr>\n",
       "    <tr>\n",
       "      <th>6</th>\n",
       "      <td>Delivery was super fast and the packaging was ...</td>\n",
       "    </tr>\n",
       "    <tr>\n",
       "      <th>7</th>\n",
       "      <td>Terrible quality, broke within a week.</td>\n",
       "    </tr>\n",
       "    <tr>\n",
       "      <th>8</th>\n",
       "      <td>Decent, but I wouldn't recommend it for the pr...</td>\n",
       "    </tr>\n",
       "    <tr>\n",
       "      <th>9</th>\n",
       "      <td>Super happy with my purchase. Best decision ever!</td>\n",
       "    </tr>\n",
       "  </tbody>\n",
       "</table>\n",
       "</div>"
      ],
      "text/plain": [
       "                                              Review\n",
       "0  I love this product! It's amazing and works pe...\n",
       "1        This is the worst experience I've ever had.\n",
       "2  The product is okay, but I expected something ...\n",
       "3             Absolutely fantastic! Would buy again.\n",
       "4      Not worth the price. Completely disappointed.\n",
       "5  Customer service was helpful, but the product ...\n",
       "6  Delivery was super fast and the packaging was ...\n",
       "7             Terrible quality, broke within a week.\n",
       "8  Decent, but I wouldn't recommend it for the pr...\n",
       "9  Super happy with my purchase. Best decision ever!"
      ]
     },
     "execution_count": 4,
     "metadata": {},
     "output_type": "execute_result"
    }
   ],
   "source": [
    "df"
   ]
  },
  {
   "cell_type": "code",
   "execution_count": 5,
   "id": "575edbb9-f8f9-475b-af5e-1a19d66bfc48",
   "metadata": {},
   "outputs": [
    {
     "name": "stderr",
     "output_type": "stream",
     "text": [
      "[nltk_data] Downloading package vader_lexicon to\n",
      "[nltk_data]     C:\\Users\\s_nas\\AppData\\Roaming\\nltk_data...\n",
      "[nltk_data]   Package vader_lexicon is already up-to-date!\n"
     ]
    }
   ],
   "source": [
    "nltk.download('vader_lexicon')\n",
    "sia = SentimentIntensityAnalyzer()"
   ]
  },
  {
   "cell_type": "code",
   "execution_count": 32,
   "id": "5acd547b-c3be-4996-94cb-88681dbc67fc",
   "metadata": {},
   "outputs": [],
   "source": [
    "def get_sentiment(score):\n",
    "    if score >= 0.50:\n",
    "        return \"Positive\"\n",
    "    elif score <= -0.50:\n",
    "        return \"Negative\"\n",
    "    else:\n",
    "        return \"Neutral\"\n"
   ]
  },
  {
   "cell_type": "code",
   "execution_count": 33,
   "id": "a6a43efc-6664-413d-9083-cc6f8f726b0f",
   "metadata": {},
   "outputs": [],
   "source": [
    "df['compound'] = df['Review'].apply(lambda x: sia.polarity_scores(str(x))['compound'])"
   ]
  },
  {
   "cell_type": "code",
   "execution_count": 34,
   "id": "64dd5b89-ad0b-4bf8-ac57-d301ee8f1a5b",
   "metadata": {},
   "outputs": [
    {
     "data": {
      "text/html": [
       "<div>\n",
       "<style scoped>\n",
       "    .dataframe tbody tr th:only-of-type {\n",
       "        vertical-align: middle;\n",
       "    }\n",
       "\n",
       "    .dataframe tbody tr th {\n",
       "        vertical-align: top;\n",
       "    }\n",
       "\n",
       "    .dataframe thead th {\n",
       "        text-align: right;\n",
       "    }\n",
       "</style>\n",
       "<table border=\"1\" class=\"dataframe\">\n",
       "  <thead>\n",
       "    <tr style=\"text-align: right;\">\n",
       "      <th></th>\n",
       "      <th>Review</th>\n",
       "      <th>compound</th>\n",
       "      <th>sentiment</th>\n",
       "      <th>Sentiment</th>\n",
       "    </tr>\n",
       "  </thead>\n",
       "  <tbody>\n",
       "    <tr>\n",
       "      <th>0</th>\n",
       "      <td>I love this product! It's amazing and works pe...</td>\n",
       "      <td>0.9259</td>\n",
       "      <td>Positive</td>\n",
       "      <td>Positive</td>\n",
       "    </tr>\n",
       "    <tr>\n",
       "      <th>1</th>\n",
       "      <td>This is the worst experience I've ever had.</td>\n",
       "      <td>-0.6249</td>\n",
       "      <td>Negative</td>\n",
       "      <td>Negative</td>\n",
       "    </tr>\n",
       "    <tr>\n",
       "      <th>2</th>\n",
       "      <td>The product is okay, but I expected something ...</td>\n",
       "      <td>0.6486</td>\n",
       "      <td>Positive</td>\n",
       "      <td>Positive</td>\n",
       "    </tr>\n",
       "    <tr>\n",
       "      <th>3</th>\n",
       "      <td>Absolutely fantastic! Would buy again.</td>\n",
       "      <td>0.6352</td>\n",
       "      <td>Positive</td>\n",
       "      <td>Positive</td>\n",
       "    </tr>\n",
       "    <tr>\n",
       "      <th>4</th>\n",
       "      <td>Not worth the price. Completely disappointed.</td>\n",
       "      <td>-0.6198</td>\n",
       "      <td>Negative</td>\n",
       "      <td>Negative</td>\n",
       "    </tr>\n",
       "    <tr>\n",
       "      <th>5</th>\n",
       "      <td>Customer service was helpful, but the product ...</td>\n",
       "      <td>-0.5486</td>\n",
       "      <td>Negative</td>\n",
       "      <td>Negative</td>\n",
       "    </tr>\n",
       "    <tr>\n",
       "      <th>6</th>\n",
       "      <td>Delivery was super fast and the packaging was ...</td>\n",
       "      <td>0.8356</td>\n",
       "      <td>Positive</td>\n",
       "      <td>Positive</td>\n",
       "    </tr>\n",
       "    <tr>\n",
       "      <th>7</th>\n",
       "      <td>Terrible quality, broke within a week.</td>\n",
       "      <td>-0.7096</td>\n",
       "      <td>Negative</td>\n",
       "      <td>Negative</td>\n",
       "    </tr>\n",
       "    <tr>\n",
       "      <th>8</th>\n",
       "      <td>Decent, but I wouldn't recommend it for the pr...</td>\n",
       "      <td>-0.3950</td>\n",
       "      <td>Negative</td>\n",
       "      <td>Negative</td>\n",
       "    </tr>\n",
       "    <tr>\n",
       "      <th>9</th>\n",
       "      <td>Super happy with my purchase. Best decision ever!</td>\n",
       "      <td>0.9200</td>\n",
       "      <td>Positive</td>\n",
       "      <td>Positive</td>\n",
       "    </tr>\n",
       "  </tbody>\n",
       "</table>\n",
       "</div>"
      ],
      "text/plain": [
       "                                              Review  compound sentiment  \\\n",
       "0  I love this product! It's amazing and works pe...    0.9259  Positive   \n",
       "1        This is the worst experience I've ever had.   -0.6249  Negative   \n",
       "2  The product is okay, but I expected something ...    0.6486  Positive   \n",
       "3             Absolutely fantastic! Would buy again.    0.6352  Positive   \n",
       "4      Not worth the price. Completely disappointed.   -0.6198  Negative   \n",
       "5  Customer service was helpful, but the product ...   -0.5486  Negative   \n",
       "6  Delivery was super fast and the packaging was ...    0.8356  Positive   \n",
       "7             Terrible quality, broke within a week.   -0.7096  Negative   \n",
       "8  Decent, but I wouldn't recommend it for the pr...   -0.3950  Negative   \n",
       "9  Super happy with my purchase. Best decision ever!    0.9200  Positive   \n",
       "\n",
       "  Sentiment  \n",
       "0  Positive  \n",
       "1  Negative  \n",
       "2  Positive  \n",
       "3  Positive  \n",
       "4  Negative  \n",
       "5  Negative  \n",
       "6  Positive  \n",
       "7  Negative  \n",
       "8  Negative  \n",
       "9  Positive  "
      ]
     },
     "execution_count": 34,
     "metadata": {},
     "output_type": "execute_result"
    }
   ],
   "source": [
    "df"
   ]
  },
  {
   "cell_type": "code",
   "execution_count": 35,
   "id": "e8c6ba59-892f-4072-8244-c778e10b531e",
   "metadata": {},
   "outputs": [
    {
     "data": {
      "text/plain": [
       "{'neg': 0.0, 'neu': 0.213, 'pos': 0.787, 'compound': 0.5719}"
      ]
     },
     "execution_count": 35,
     "metadata": {},
     "output_type": "execute_result"
    }
   ],
   "source": [
    "sia.polarity_scores('Wonderful product')"
   ]
  },
  {
   "cell_type": "code",
   "execution_count": 40,
   "id": "98a0077b-fb3b-41fb-a502-0bec37616002",
   "metadata": {},
   "outputs": [
    {
     "data": {
      "text/plain": [
       "-0.4767"
      ]
     },
     "execution_count": 40,
     "metadata": {},
     "output_type": "execute_result"
    }
   ],
   "source": [
    "sia.polarity_scores('Terrible product')['compound']"
   ]
  },
  {
   "cell_type": "code",
   "execution_count": 37,
   "id": "0b553039-052d-450d-89c6-e03111f8bc0c",
   "metadata": {},
   "outputs": [],
   "source": [
    "df['Sentiment'] = df['compound'].apply(get_sentiment)"
   ]
  },
  {
   "cell_type": "code",
   "execution_count": 38,
   "id": "7059c155-86d4-4d5e-8d4e-e3e0a4fb7e0a",
   "metadata": {},
   "outputs": [
    {
     "data": {
      "text/html": [
       "<div>\n",
       "<style scoped>\n",
       "    .dataframe tbody tr th:only-of-type {\n",
       "        vertical-align: middle;\n",
       "    }\n",
       "\n",
       "    .dataframe tbody tr th {\n",
       "        vertical-align: top;\n",
       "    }\n",
       "\n",
       "    .dataframe thead th {\n",
       "        text-align: right;\n",
       "    }\n",
       "</style>\n",
       "<table border=\"1\" class=\"dataframe\">\n",
       "  <thead>\n",
       "    <tr style=\"text-align: right;\">\n",
       "      <th></th>\n",
       "      <th>Review</th>\n",
       "      <th>compound</th>\n",
       "      <th>sentiment</th>\n",
       "      <th>Sentiment</th>\n",
       "    </tr>\n",
       "  </thead>\n",
       "  <tbody>\n",
       "    <tr>\n",
       "      <th>0</th>\n",
       "      <td>I love this product! It's amazing and works pe...</td>\n",
       "      <td>0.9259</td>\n",
       "      <td>Positive</td>\n",
       "      <td>Positive</td>\n",
       "    </tr>\n",
       "    <tr>\n",
       "      <th>1</th>\n",
       "      <td>This is the worst experience I've ever had.</td>\n",
       "      <td>-0.6249</td>\n",
       "      <td>Negative</td>\n",
       "      <td>Negative</td>\n",
       "    </tr>\n",
       "    <tr>\n",
       "      <th>2</th>\n",
       "      <td>The product is okay, but I expected something ...</td>\n",
       "      <td>0.6486</td>\n",
       "      <td>Positive</td>\n",
       "      <td>Positive</td>\n",
       "    </tr>\n",
       "    <tr>\n",
       "      <th>3</th>\n",
       "      <td>Absolutely fantastic! Would buy again.</td>\n",
       "      <td>0.6352</td>\n",
       "      <td>Positive</td>\n",
       "      <td>Positive</td>\n",
       "    </tr>\n",
       "    <tr>\n",
       "      <th>4</th>\n",
       "      <td>Not worth the price. Completely disappointed.</td>\n",
       "      <td>-0.6198</td>\n",
       "      <td>Negative</td>\n",
       "      <td>Negative</td>\n",
       "    </tr>\n",
       "    <tr>\n",
       "      <th>5</th>\n",
       "      <td>Customer service was helpful, but the product ...</td>\n",
       "      <td>-0.5486</td>\n",
       "      <td>Negative</td>\n",
       "      <td>Negative</td>\n",
       "    </tr>\n",
       "    <tr>\n",
       "      <th>6</th>\n",
       "      <td>Delivery was super fast and the packaging was ...</td>\n",
       "      <td>0.8356</td>\n",
       "      <td>Positive</td>\n",
       "      <td>Positive</td>\n",
       "    </tr>\n",
       "    <tr>\n",
       "      <th>7</th>\n",
       "      <td>Terrible quality, broke within a week.</td>\n",
       "      <td>-0.7096</td>\n",
       "      <td>Negative</td>\n",
       "      <td>Negative</td>\n",
       "    </tr>\n",
       "    <tr>\n",
       "      <th>8</th>\n",
       "      <td>Decent, but I wouldn't recommend it for the pr...</td>\n",
       "      <td>-0.3950</td>\n",
       "      <td>Negative</td>\n",
       "      <td>Neutral</td>\n",
       "    </tr>\n",
       "    <tr>\n",
       "      <th>9</th>\n",
       "      <td>Super happy with my purchase. Best decision ever!</td>\n",
       "      <td>0.9200</td>\n",
       "      <td>Positive</td>\n",
       "      <td>Positive</td>\n",
       "    </tr>\n",
       "  </tbody>\n",
       "</table>\n",
       "</div>"
      ],
      "text/plain": [
       "                                              Review  compound sentiment  \\\n",
       "0  I love this product! It's amazing and works pe...    0.9259  Positive   \n",
       "1        This is the worst experience I've ever had.   -0.6249  Negative   \n",
       "2  The product is okay, but I expected something ...    0.6486  Positive   \n",
       "3             Absolutely fantastic! Would buy again.    0.6352  Positive   \n",
       "4      Not worth the price. Completely disappointed.   -0.6198  Negative   \n",
       "5  Customer service was helpful, but the product ...   -0.5486  Negative   \n",
       "6  Delivery was super fast and the packaging was ...    0.8356  Positive   \n",
       "7             Terrible quality, broke within a week.   -0.7096  Negative   \n",
       "8  Decent, but I wouldn't recommend it for the pr...   -0.3950  Negative   \n",
       "9  Super happy with my purchase. Best decision ever!    0.9200  Positive   \n",
       "\n",
       "  Sentiment  \n",
       "0  Positive  \n",
       "1  Negative  \n",
       "2  Positive  \n",
       "3  Positive  \n",
       "4  Negative  \n",
       "5  Negative  \n",
       "6  Positive  \n",
       "7  Negative  \n",
       "8   Neutral  \n",
       "9  Positive  "
      ]
     },
     "execution_count": 38,
     "metadata": {},
     "output_type": "execute_result"
    }
   ],
   "source": [
    "df"
   ]
  },
  {
   "cell_type": "code",
   "execution_count": 39,
   "id": "1e102e28-7940-4b8b-8e0c-12f5550e297d",
   "metadata": {},
   "outputs": [
    {
     "data": {
      "image/png": "[encoded data removed]",
      "text/plain": [
       "<Figure size 640x480 with 1 Axes>"
      ]
     },
     "metadata": {},
     "output_type": "display_data"
    }
   ],
   "source": [
    "import matplotlib.pyplot as plt\n",
    "import seaborn as sns\n",
    "\n",
    "sns.countplot(x='Sentiment', data=df)\n",
    "plt.title(\"Sentiment Distribution of Customer Reviews\")\n",
    "plt.xlabel(\"Sentiment\")\n",
    "plt.ylabel(\"Number of Reviews\")\n",
    "plt.show()\n"
   ]
  },
  {
   "cell_type": "code",
   "execution_count": null,
   "id": "16fffa2e-96ce-4000-834f-184696335dce",
   "metadata": {},
   "outputs": [],
   "source": []
  }
 ],
 "metadata": {
  "kernelspec": {
   "display_name": "Python 3 (ipykernel)",
   "language": "python",
   "name": "python3"
  },
  "language_info": {
   "codemirror_mode": {
    "name": "ipython",
    "version": 3
   },
   "file_extension": ".py",
   "mimetype": "text/x-python",
   "name": "python",
   "nbconvert_exporter": "python",
   "pygments_lexer": "ipython3",
   "version": "3.12.10"
  }
 },
 "nbformat": 4,
 "nbformat_minor": 5
}
