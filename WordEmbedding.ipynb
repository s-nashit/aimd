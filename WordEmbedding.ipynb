{
 "cells": [
  {
   "cell_type": "code",
   "execution_count": 1,
   "id": "113574b6-0493-4fa6-9b6d-03bb4be887db",
   "metadata": {},
   "outputs": [],
   "source": [
    "import gensim"
   ]
  },
  {
   "cell_type": "code",
   "execution_count": 2,
   "id": "f0f70f0c-c916-40bb-b230-a3a66c4e5ea3",
   "metadata": {},
   "outputs": [],
   "source": [
    "import gensim.downloader as api"
   ]
  },
  {
   "cell_type": "code",
   "execution_count": 3,
   "id": "965e9fc3-abc2-4e31-99af-089545117c60",
   "metadata": {},
   "outputs": [],
   "source": [
    "wv = api.load('word2vec-google-news-300')"
   ]
  },
  {
   "cell_type": "code",
   "execution_count": 4,
   "id": "d47da624-9929-4a84-a1d3-15c2f43d899b",
   "metadata": {},
   "outputs": [
    {
     "data": {
      "text/plain": [
       "0.40229157"
      ]
     },
     "execution_count": 4,
     "metadata": {},
     "output_type": "execute_result"
    }
   ],
   "source": [
    "wv.similarity(w1 = 'Good', w2 = 'Great')"
   ]
  },
  {
   "cell_type": "code",
   "execution_count": 5,
   "id": "2d860cb2-7c02-41ec-b0e0-7e90f80f448b",
   "metadata": {},
   "outputs": [
    {
     "data": {
      "text/plain": [
       "0.4289661"
      ]
     },
     "execution_count": 5,
     "metadata": {},
     "output_type": "execute_result"
    }
   ],
   "source": [
    "wv.similarity(w1 = 'Wonderful', w2 = 'Good')"
   ]
  },
  {
   "cell_type": "code",
   "execution_count": 6,
   "id": "740e3441-e4ac-43e7-9bbb-25b2249fe768",
   "metadata": {},
   "outputs": [
    {
     "data": {
      "text/plain": [
       "0.61722034"
      ]
     },
     "execution_count": 6,
     "metadata": {},
     "output_type": "execute_result"
    }
   ],
   "source": [
    "wv.similarity(w1 = 'Good', w2 = 'Bad')"
   ]
  },
  {
   "cell_type": "code",
   "execution_count": 7,
   "id": "21622c13-32ea-45ab-bde6-b781bbb24403",
   "metadata": {},
   "outputs": [
    {
     "data": {
      "text/plain": [
       "[('great', 0.7291510105133057),\n",
       " ('bad', 0.7190051078796387),\n",
       " ('terrific', 0.6889115571975708),\n",
       " ('decent', 0.6837348341941833),\n",
       " ('nice', 0.6836092472076416),\n",
       " ('excellent', 0.644292950630188),\n",
       " ('fantastic', 0.6407778263092041),\n",
       " ('better', 0.6120728850364685),\n",
       " ('solid', 0.5806034803390503),\n",
       " ('lousy', 0.576420247554779)]"
      ]
     },
     "execution_count": 7,
     "metadata": {},
     "output_type": "execute_result"
    }
   ],
   "source": [
    "wv.most_similar('good')"
   ]
  },
  {
   "cell_type": "code",
   "execution_count": 8,
   "id": "95fa0700-3282-4237-95cd-fee8ad42848e",
   "metadata": {},
   "outputs": [
    {
     "data": {
      "text/plain": [
       "[('dogs', 0.8680489659309387),\n",
       " ('puppy', 0.8106428384780884),\n",
       " ('pit_bull', 0.780396044254303),\n",
       " ('pooch', 0.7627376914024353),\n",
       " ('cat', 0.7609457969665527),\n",
       " ('golden_retriever', 0.7500901818275452),\n",
       " ('German_shepherd', 0.7465174198150635),\n",
       " ('Rottweiler', 0.7437615394592285),\n",
       " ('beagle', 0.7418621778488159),\n",
       " ('pup', 0.740691065788269)]"
      ]
     },
     "execution_count": 8,
     "metadata": {},
     "output_type": "execute_result"
    }
   ],
   "source": [
    "wv.most_similar('dog')"
   ]
  },
  {
   "cell_type": "code",
   "execution_count": 10,
   "id": "ac20bf15-76db-4501-970f-7166876bf33d",
   "metadata": {},
   "outputs": [
    {
     "data": {
      "text/plain": [
       "[('man', 0.6628609299659729),\n",
       " ('queen', 0.6438563466072083),\n",
       " ('girl', 0.6136074066162109),\n",
       " ('princess', 0.6087510585784912),\n",
       " ('monarch', 0.5900576710700989),\n",
       " ('prince', 0.5896844863891602),\n",
       " ('teenage_girl', 0.571865975856781),\n",
       " ('boy', 0.5665285587310791),\n",
       " ('crown_prince', 0.5520807504653931),\n",
       " ('lady', 0.5445604920387268)]"
      ]
     },
     "execution_count": 10,
     "metadata": {},
     "output_type": "execute_result"
    }
   ],
   "source": [
    "wv.most_similar(positive=['king', 'woman'])"
   ]
  },
  {
   "cell_type": "code",
   "execution_count": 11,
   "id": "d8b5c334-4de5-4ce7-87bc-cf4437ee440b",
   "metadata": {},
   "outputs": [
    {
     "data": {
      "text/plain": [
       "[('boy', 0.5969123840332031),\n",
       " ('prince', 0.5720531344413757),\n",
       " ('woman', 0.5706883072853088),\n",
       " ('kings', 0.5703803300857544),\n",
       " ('teenager', 0.5386132597923279),\n",
       " ('monarch', 0.5302837491035461),\n",
       " ('crown_prince', 0.5300849676132202),\n",
       " ('queen', 0.5214537978172302),\n",
       " ('ruler', 0.5094804167747498),\n",
       " ('emperor', 0.5035953521728516)]"
      ]
     },
     "execution_count": 11,
     "metadata": {},
     "output_type": "execute_result"
    }
   ],
   "source": [
    "wv.most_similar(positive=['king', 'man'])"
   ]
  },
  {
   "cell_type": "code",
   "execution_count": 13,
   "id": "73d7ea89-6124-4117-b011-a51550f91438",
   "metadata": {},
   "outputs": [
    {
     "data": {
      "text/plain": [
       "[('queen', 0.7118193507194519),\n",
       " ('monarch', 0.6189674139022827),\n",
       " ('princess', 0.5902431011199951),\n",
       " ('crown_prince', 0.5499460697174072),\n",
       " ('prince', 0.5377321839332581),\n",
       " ('kings', 0.5236844420433044),\n",
       " ('Queen_Consort', 0.5235945582389832),\n",
       " ('queens', 0.5181134343147278),\n",
       " ('sultan', 0.5098593831062317),\n",
       " ('monarchy', 0.5087411999702454)]"
      ]
     },
     "execution_count": 13,
     "metadata": {},
     "output_type": "execute_result"
    }
   ],
   "source": [
    "wv.most_similar(positive=['king', 'woman'], negative=['man'])"
   ]
  },
  {
   "cell_type": "code",
   "execution_count": 14,
   "id": "24b0ccd6-ae12-4ba9-84ee-ae1a30760e65",
   "metadata": {},
   "outputs": [
    {
     "data": {
      "text/plain": [
       "'cat'"
      ]
     },
     "execution_count": 14,
     "metadata": {},
     "output_type": "execute_result"
    }
   ],
   "source": [
    "wv.doesnt_match(['apple', 'banana', 'cat', 'cherry', 'blackberry'])"
   ]
  },
  {
   "cell_type": "code",
   "execution_count": 16,
   "id": "1e78b9c3-d717-438e-ace9-3d88195713dd",
   "metadata": {},
   "outputs": [
    {
     "data": {
      "text/plain": [
       "[('addresses', 0.741275429725647),\n",
       " ('addressing', 0.6500983834266663),\n",
       " ('addressed', 0.6482419967651367),\n",
       " ('Address', 0.6413118243217468),\n",
       " ('addresss', 0.6025368571281433),\n",
       " ('adress', 0.5798808336257935),\n",
       " ('addres', 0.5472975373268127),\n",
       " ('Email_Brummett', 0.5279918313026428),\n",
       " ('Joab_e_mail', 0.5178068280220032),\n",
       " ('solve', 0.5030409097671509)]"
      ]
     },
     "execution_count": 16,
     "metadata": {},
     "output_type": "execute_result"
    }
   ],
   "source": [
    "wv.most_similar('address')"
   ]
  },
  {
   "cell_type": "code",
   "execution_count": 17,
   "id": "645683ac-89e2-4785-959c-6d8b37731c6c",
   "metadata": {},
   "outputs": [
    {
     "name": "stdout",
     "output_type": "stream",
     "text": [
      "[==================================================] 100.0% 104.8/104.8MB downloaded\n"
     ]
    }
   ],
   "source": [
    "glv = api.load('glove-twitter-25')"
   ]
  },
  {
   "cell_type": "code",
   "execution_count": 18,
   "id": "48ed7157-0de1-4b89-bead-2513902b22f4",
   "metadata": {},
   "outputs": [
    {
     "data": {
      "text/plain": [
       "[('too', 0.9648017287254333),\n",
       " ('day', 0.9533665180206299),\n",
       " ('well', 0.9503170847892761),\n",
       " ('nice', 0.9438973665237427),\n",
       " ('better', 0.9425962567329407),\n",
       " ('fun', 0.9418926239013672),\n",
       " ('much', 0.9413353800773621),\n",
       " ('this', 0.9387555122375488),\n",
       " ('hope', 0.9383506774902344),\n",
       " ('great', 0.9378516674041748)]"
      ]
     },
     "execution_count": 18,
     "metadata": {},
     "output_type": "execute_result"
    }
   ],
   "source": [
    "glv.most_similar('good')"
   ]
  },
  {
   "cell_type": "code",
   "execution_count": 20,
   "id": "42ec4db3-e473-450f-ad02-866c0de53c85",
   "metadata": {},
   "outputs": [
    {
     "data": {
      "text/plain": [
       "[('great', 0.7291510105133057),\n",
       " ('bad', 0.7190051078796387),\n",
       " ('terrific', 0.6889115571975708),\n",
       " ('decent', 0.6837348341941833),\n",
       " ('nice', 0.6836092472076416)]"
      ]
     },
     "execution_count": 20,
     "metadata": {},
     "output_type": "execute_result"
    }
   ],
   "source": [
    "wv.most_similar('good', topn=5)"
   ]
  },
  {
   "cell_type": "code",
   "execution_count": 21,
   "id": "77165e06-a436-488c-aecb-84d77c7b72b5",
   "metadata": {},
   "outputs": [
    {
     "data": {
      "text/plain": [
       "'blackberry'"
      ]
     },
     "execution_count": 21,
     "metadata": {},
     "output_type": "execute_result"
    }
   ],
   "source": [
    "glv.doesnt_match(['apple', 'banana', 'cat', 'cherry', 'blackberry'])"
   ]
  },
  {
   "cell_type": "code",
   "execution_count": 22,
   "id": "fdb44d40-94f4-42ca-9f77-b8dcedbf3fd6",
   "metadata": {},
   "outputs": [],
   "source": [
    "## TextBlob"
   ]
  },
  {
   "cell_type": "code",
   "execution_count": 23,
   "id": "25263836-d1eb-46ec-aa6d-cdf33068deb6",
   "metadata": {},
   "outputs": [],
   "source": [
    "from textblob import download_corpora"
   ]
  },
  {
   "cell_type": "code",
   "execution_count": 24,
   "id": "e5329d5a-0fde-447c-8a18-bc26a23455e1",
   "metadata": {},
   "outputs": [
    {
     "name": "stderr",
     "output_type": "stream",
     "text": [
      "[nltk_data] Downloading package brown to\n",
      "[nltk_data]     C:\\Users\\s_nas\\AppData\\Roaming\\nltk_data...\n",
      "[nltk_data]   Package brown is already up-to-date!\n",
      "[nltk_data] Downloading package punkt_tab to\n",
      "[nltk_data]     C:\\Users\\s_nas\\AppData\\Roaming\\nltk_data...\n",
      "[nltk_data]   Package punkt_tab is already up-to-date!\n",
      "[nltk_data] Downloading package wordnet to\n",
      "[nltk_data]     C:\\Users\\s_nas\\AppData\\Roaming\\nltk_data...\n",
      "[nltk_data]   Package wordnet is already up-to-date!\n",
      "[nltk_data] Downloading package averaged_perceptron_tagger_eng to\n",
      "[nltk_data]     C:\\Users\\s_nas\\AppData\\Roaming\\nltk_data...\n",
      "[nltk_data]   Package averaged_perceptron_tagger_eng is already up-to-\n",
      "[nltk_data]       date!\n",
      "[nltk_data] Downloading package conll2000 to\n",
      "[nltk_data]     C:\\Users\\s_nas\\AppData\\Roaming\\nltk_data...\n",
      "[nltk_data]   Package conll2000 is already up-to-date!\n",
      "[nltk_data] Downloading package movie_reviews to\n",
      "[nltk_data]     C:\\Users\\s_nas\\AppData\\Roaming\\nltk_data...\n",
      "[nltk_data]   Package movie_reviews is already up-to-date!\n"
     ]
    }
   ],
   "source": [
    "download_corpora.download_all()"
   ]
  },
  {
   "cell_type": "code",
   "execution_count": 25,
   "id": "dee06b7e-f5b0-4c04-8add-e5ec8750b007",
   "metadata": {},
   "outputs": [],
   "source": [
    "from textblob import TextBlob"
   ]
  },
  {
   "cell_type": "code",
   "execution_count": 35,
   "id": "4e99ec5c-4d6f-492b-81b1-085c20e05808",
   "metadata": {},
   "outputs": [],
   "source": [
    "blob = TextBlob('Hello, mye name is John')"
   ]
  },
  {
   "cell_type": "code",
   "execution_count": 36,
   "id": "37231d59-66e8-487e-89f0-886542d432ca",
   "metadata": {},
   "outputs": [
    {
     "data": {
      "text/plain": [
       "WordList(['Hello', 'mye', 'name', 'is', 'John'])"
      ]
     },
     "execution_count": 36,
     "metadata": {},
     "output_type": "execute_result"
    }
   ],
   "source": [
    "blob.words"
   ]
  },
  {
   "cell_type": "code",
   "execution_count": 37,
   "id": "4b32c61e-6de4-4f60-8754-e4c2cf62b365",
   "metadata": {},
   "outputs": [
    {
     "data": {
      "text/plain": [
       "TextBlob(\"Hello, my name is John\")"
      ]
     },
     "execution_count": 37,
     "metadata": {},
     "output_type": "execute_result"
    }
   ],
   "source": [
    "#Spell check\n",
    "blob.correct()"
   ]
  },
  {
   "cell_type": "code",
   "execution_count": 48,
   "id": "2f7712c9-4e76-43c2-a7fd-53935e753365",
   "metadata": {},
   "outputs": [],
   "source": [
    "b = TextBlob('Hello, my my my name is John John John John John')"
   ]
  },
  {
   "cell_type": "code",
   "execution_count": 52,
   "id": "9961eeea-c112-4f70-832a-d1903440efad",
   "metadata": {},
   "outputs": [
    {
     "data": {
      "text/plain": [
       "3"
      ]
     },
     "execution_count": 52,
     "metadata": {},
     "output_type": "execute_result"
    }
   ],
   "source": [
    "b.word_counts['my']"
   ]
  },
  {
   "cell_type": "code",
   "execution_count": 53,
   "id": "9b3c4b81-b98e-4823-adff-b851ae81519a",
   "metadata": {},
   "outputs": [
    {
     "data": {
      "text/plain": [
       "['__add__',\n",
       " '__class__',\n",
       " '__contains__',\n",
       " '__delattr__',\n",
       " '__dict__',\n",
       " '__dir__',\n",
       " '__doc__',\n",
       " '__eq__',\n",
       " '__format__',\n",
       " '__ge__',\n",
       " '__getattribute__',\n",
       " '__getitem__',\n",
       " '__getstate__',\n",
       " '__gt__',\n",
       " '__hash__',\n",
       " '__init__',\n",
       " '__init_subclass__',\n",
       " '__iter__',\n",
       " '__le__',\n",
       " '__len__',\n",
       " '__lt__',\n",
       " '__module__',\n",
       " '__ne__',\n",
       " '__new__',\n",
       " '__reduce__',\n",
       " '__reduce_ex__',\n",
       " '__repr__',\n",
       " '__setattr__',\n",
       " '__sizeof__',\n",
       " '__str__',\n",
       " '__subclasshook__',\n",
       " '__weakref__',\n",
       " '_cmpkey',\n",
       " '_compare',\n",
       " '_create_sentence_objects',\n",
       " '_strkey',\n",
       " 'analyzer',\n",
       " 'classifier',\n",
       " 'classify',\n",
       " 'correct',\n",
       " 'ends_with',\n",
       " 'endswith',\n",
       " 'find',\n",
       " 'format',\n",
       " 'index',\n",
       " 'join',\n",
       " 'json',\n",
       " 'lower',\n",
       " 'ngrams',\n",
       " 'noun_phrases',\n",
       " 'np_counts',\n",
       " 'np_extractor',\n",
       " 'parse',\n",
       " 'parser',\n",
       " 'polarity',\n",
       " 'pos_tagger',\n",
       " 'pos_tags',\n",
       " 'raw',\n",
       " 'raw_sentences',\n",
       " 'replace',\n",
       " 'rfind',\n",
       " 'rindex',\n",
       " 'sentences',\n",
       " 'sentiment',\n",
       " 'sentiment_assessments',\n",
       " 'serialized',\n",
       " 'split',\n",
       " 'starts_with',\n",
       " 'startswith',\n",
       " 'string',\n",
       " 'strip',\n",
       " 'stripped',\n",
       " 'subjectivity',\n",
       " 'tags',\n",
       " 'title',\n",
       " 'to_json',\n",
       " 'tokenize',\n",
       " 'tokenizer',\n",
       " 'tokens',\n",
       " 'upper',\n",
       " 'word_counts',\n",
       " 'words']"
      ]
     },
     "execution_count": 53,
     "metadata": {},
     "output_type": "execute_result"
    }
   ],
   "source": [
    "dir(b)"
   ]
  },
  {
   "cell_type": "code",
   "execution_count": 54,
   "id": "005cbd55-5bf2-4c7c-938d-99e3dddf04a5",
   "metadata": {},
   "outputs": [],
   "source": [
    "b1 = TextBlob('Patna is quite congested')"
   ]
  },
  {
   "cell_type": "code",
   "execution_count": 55,
   "id": "a8786ff5-e4dc-441c-bc94-f110163d08cb",
   "metadata": {},
   "outputs": [
    {
     "data": {
      "text/plain": [
       "[('Patna', 'NNP'), ('is', 'VBZ'), ('quite', 'RB'), ('congested', 'JJ')]"
      ]
     },
     "execution_count": 55,
     "metadata": {},
     "output_type": "execute_result"
    }
   ],
   "source": [
    "b1.tags"
   ]
  },
  {
   "cell_type": "code",
   "execution_count": 56,
   "id": "d55ea224-4275-494f-866c-02b77a5d151b",
   "metadata": {},
   "outputs": [
    {
     "data": {
      "text/plain": [
       "['__add__',\n",
       " '__class__',\n",
       " '__class_getitem__',\n",
       " '__contains__',\n",
       " '__delattr__',\n",
       " '__delitem__',\n",
       " '__dir__',\n",
       " '__doc__',\n",
       " '__eq__',\n",
       " '__format__',\n",
       " '__ge__',\n",
       " '__getattribute__',\n",
       " '__getitem__',\n",
       " '__getstate__',\n",
       " '__gt__',\n",
       " '__hash__',\n",
       " '__iadd__',\n",
       " '__imul__',\n",
       " '__init__',\n",
       " '__init_subclass__',\n",
       " '__iter__',\n",
       " '__le__',\n",
       " '__len__',\n",
       " '__lt__',\n",
       " '__mul__',\n",
       " '__ne__',\n",
       " '__new__',\n",
       " '__reduce__',\n",
       " '__reduce_ex__',\n",
       " '__repr__',\n",
       " '__reversed__',\n",
       " '__rmul__',\n",
       " '__setattr__',\n",
       " '__setitem__',\n",
       " '__sizeof__',\n",
       " '__str__',\n",
       " '__subclasshook__',\n",
       " 'append',\n",
       " 'clear',\n",
       " 'copy',\n",
       " 'count',\n",
       " 'extend',\n",
       " 'index',\n",
       " 'insert',\n",
       " 'pop',\n",
       " 'remove',\n",
       " 'reverse',\n",
       " 'sort']"
      ]
     },
     "execution_count": 56,
     "metadata": {},
     "output_type": "execute_result"
    }
   ],
   "source": [
    "dir(b1.tags)"
   ]
  },
  {
   "cell_type": "code",
   "execution_count": 57,
   "id": "1e71d9bb-e282-4169-b9ce-584f49775ee1",
   "metadata": {},
   "outputs": [
    {
     "data": {
      "text/plain": [
       "['binary compound that occurs at room temperature as a clear colorless odorless tasteless liquid; freezes into ice below 0 degrees centigrade and boils above 100 degrees centigrade; widely used as a solvent',\n",
       " \"the part of the earth's surface covered with water (such as a river or lake or ocean)\",\n",
       " 'once thought to be one of four elements composing the universe (Empedocles)',\n",
       " 'a facility that provides a source of water',\n",
       " 'liquid excretory product',\n",
       " 'a liquid necessary for the life of most animals and plants',\n",
       " 'supply with water, as with channels or ditches or streams',\n",
       " 'provide with water',\n",
       " 'secrete or form water, as tears or saliva',\n",
       " 'fill with tears']"
      ]
     },
     "execution_count": 57,
     "metadata": {},
     "output_type": "execute_result"
    }
   ],
   "source": [
    "from textblob import Word\n",
    "a = Word('Water')\n",
    "a.definitions"
   ]
  },
  {
   "cell_type": "code",
   "execution_count": 58,
   "id": "92fcb721-0c15-4138-bacf-614ed5d75091",
   "metadata": {},
   "outputs": [],
   "source": [
    "b2 = TextBlob('''I received my Acer Aspire laptop yesterday, and I'm thrilled with its performance so far! With 16GB of RAM and a 512GB SSD, this laptop is a beast. The AMD Ryzen 5-5625U processor handles multitasking with ease.\n",
    "\n",
    "The laptop's build quality is solid, and it looks sleek. I've been using it for general productivity, browsing, and it's handled everything seamlessly.\n",
    "\n",
    "Overall, I'm extremely satisfied with my purchase. The Acer Aspire offers incredible value for its price. If you're in the market for a reliable and powerful laptop, I highly recommend considering this one!\n",
    "''')"
   ]
  },
  {
   "cell_type": "code",
   "execution_count": 59,
   "id": "8dbc77f7-9ba3-429b-a35b-b86a6e16efb8",
   "metadata": {},
   "outputs": [
    {
     "data": {
      "text/plain": [
       "[Sentence(\"I received my Acer Aspire laptop yesterday, and I'm thrilled with its performance so far!\"),\n",
       " Sentence(\"With 16GB of RAM and a 512GB SSD, this laptop is a beast.\"),\n",
       " Sentence(\"The AMD Ryzen 5-5625U processor handles multitasking with ease.\"),\n",
       " Sentence(\"The laptop's build quality is solid, and it looks sleek.\"),\n",
       " Sentence(\"I've been using it for general productivity, browsing, and it's handled everything seamlessly.\"),\n",
       " Sentence(\"Overall, I'm extremely satisfied with my purchase.\"),\n",
       " Sentence(\"The Acer Aspire offers incredible value for its price.\"),\n",
       " Sentence(\"If you're in the market for a reliable and powerful laptop, I highly recommend considering this one!\")]"
      ]
     },
     "execution_count": 59,
     "metadata": {},
     "output_type": "execute_result"
    }
   ],
   "source": [
    "b2.sentences"
   ]
  },
  {
   "cell_type": "code",
   "execution_count": 60,
   "id": "602525e6-0d89-43e9-8da7-b22d4d42faa3",
   "metadata": {},
   "outputs": [
    {
     "data": {
      "text/plain": [
       "WordList(['I', 'received', 'my', 'Acer', 'Aspire', 'laptop', 'yesterday', 'and', 'I', \"'m\", 'thrilled', 'with', 'its', 'performance', 'so', 'far', 'With', '16GB', 'of', 'RAM', 'and', 'a', '512GB', 'SSD', 'this', 'laptop', 'is', 'a', 'beast', 'The', 'AMD', 'Ryzen', '5-5625U', 'processor', 'handles', 'multitasking', 'with', 'ease', 'The', 'laptop', \"'s\", 'build', 'quality', 'is', 'solid', 'and', 'it', 'looks', 'sleek', 'I', \"'ve\", 'been', 'using', 'it', 'for', 'general', 'productivity', 'browsing', 'and', 'it', \"'s\", 'handled', 'everything', 'seamlessly', 'Overall', 'I', \"'m\", 'extremely', 'satisfied', 'with', 'my', 'purchase', 'The', 'Acer', 'Aspire', 'offers', 'incredible', 'value', 'for', 'its', 'price', 'If', 'you', \"'re\", 'in', 'the', 'market', 'for', 'a', 'reliable', 'and', 'powerful', 'laptop', 'I', 'highly', 'recommend', 'considering', 'this', 'one'])"
      ]
     },
     "execution_count": 60,
     "metadata": {},
     "output_type": "execute_result"
    }
   ],
   "source": [
    "b2.words"
   ]
  },
  {
   "cell_type": "code",
   "execution_count": 61,
   "id": "3c22b2c0-bf1b-4f56-9f83-28363bdd16a1",
   "metadata": {},
   "outputs": [
    {
     "data": {
      "text/plain": [
       "Sentiment(polarity=0.27749999999999997, subjectivity=0.5740000000000001)"
      ]
     },
     "execution_count": 61,
     "metadata": {},
     "output_type": "execute_result"
    }
   ],
   "source": [
    "b2.sentiment"
   ]
  },
  {
   "cell_type": "code",
   "execution_count": 62,
   "id": "d3f05404-a26d-447c-9ac9-9d2679b45322",
   "metadata": {},
   "outputs": [],
   "source": [
    "# polarity : -1 to +1\n",
    "#subjectivity : 0 to 1:"
   ]
  },
  {
   "cell_type": "code",
   "execution_count": 63,
   "id": "11584622-1db9-4169-bae1-83030f2a662d",
   "metadata": {},
   "outputs": [
    {
     "data": {
      "text/plain": [
       "Sentiment(polarity=0.0, subjectivity=0.0)"
      ]
     },
     "execution_count": 63,
     "metadata": {},
     "output_type": "execute_result"
    }
   ],
   "source": [
    "b1.sentiment"
   ]
  },
  {
   "cell_type": "code",
   "execution_count": 64,
   "id": "a301cd18-a0be-47cb-85cc-9e7853ffc8a3",
   "metadata": {},
   "outputs": [],
   "source": [
    "b3 = TextBlob('This is beautiful. I would love to come back. Beautiful city with wonderful people and hospitality')"
   ]
  },
  {
   "cell_type": "code",
   "execution_count": 65,
   "id": "2b6c0bd7-1a64-483d-a35c-0dfe47daab16",
   "metadata": {},
   "outputs": [
    {
     "data": {
      "text/plain": [
       "Sentiment(polarity=0.64, subjectivity=0.72)"
      ]
     },
     "execution_count": 65,
     "metadata": {},
     "output_type": "execute_result"
    }
   ],
   "source": [
    "b3.sentiment"
   ]
  },
  {
   "cell_type": "code",
   "execution_count": 71,
   "id": "abdc2a37-da90-41e6-95c8-50a554ec52c6",
   "metadata": {},
   "outputs": [
    {
     "name": "stdout",
     "output_type": "stream",
     "text": [
      "bad\n"
     ]
    }
   ],
   "source": [
    "w1= Word('worse')\n",
    "print(w1.lemmatize('a'))"
   ]
  },
  {
   "cell_type": "code",
   "execution_count": 73,
   "id": "2dacbff9-e5d4-46fc-942e-6d311130607f",
   "metadata": {},
   "outputs": [
    {
     "name": "stdout",
     "output_type": "stream",
     "text": [
      "go\n"
     ]
    }
   ],
   "source": [
    "w2 = Word('went')\n",
    "print(w2.lemmatize('v'))"
   ]
  },
  {
   "cell_type": "code",
   "execution_count": 74,
   "id": "1670f6fe-8aa5-4154-ab7e-436f27f00eb2",
   "metadata": {},
   "outputs": [],
   "source": [
    "s1 = TextBlob('''Python est un beau langage de programmation''')"
   ]
  },
  {
   "cell_type": "code",
   "execution_count": 75,
   "id": "2bf6906d-e456-4234-8f12-984ac2bb3a6e",
   "metadata": {},
   "outputs": [
    {
     "ename": "AttributeError",
     "evalue": "'TextBlob' object has no attribute 'translate'",
     "output_type": "error",
     "traceback": [
      "\u001b[31m---------------------------------------------------------------------------\u001b[39m",
      "\u001b[31mAttributeError\u001b[39m                            Traceback (most recent call last)",
      "\u001b[36mCell\u001b[39m\u001b[36m \u001b[39m\u001b[32mIn[75]\u001b[39m\u001b[32m, line 1\u001b[39m\n\u001b[32m----> \u001b[39m\u001b[32m1\u001b[39m \u001b[43ms1\u001b[49m\u001b[43m.\u001b[49m\u001b[43mtranslate\u001b[49m(to=\u001b[33m'\u001b[39m\u001b[33men\u001b[39m\u001b[33m'\u001b[39m)\n",
      "\u001b[31mAttributeError\u001b[39m: 'TextBlob' object has no attribute 'translate'"
     ]
    }
   ],
   "source": [
    "s1.translate(to='en')"
   ]
  },
  {
   "cell_type": "code",
   "execution_count": 76,
   "id": "203cf919-2848-4c4e-86f9-4d3789d83206",
   "metadata": {},
   "outputs": [
    {
     "ename": "AttributeError",
     "evalue": "'TextBlob' object has no attribute 'translate'",
     "output_type": "error",
     "traceback": [
      "\u001b[31m---------------------------------------------------------------------------\u001b[39m",
      "\u001b[31mAttributeError\u001b[39m                            Traceback (most recent call last)",
      "\u001b[36mCell\u001b[39m\u001b[36m \u001b[39m\u001b[32mIn[76]\u001b[39m\u001b[32m, line 1\u001b[39m\n\u001b[32m----> \u001b[39m\u001b[32m1\u001b[39m \u001b[43ms1\u001b[49m\u001b[43m.\u001b[49m\u001b[43mtranslate\u001b[49m(from_lang=\u001b[33m'\u001b[39m\u001b[33mfr\u001b[39m\u001b[33m'\u001b[39m, to=\u001b[33m'\u001b[39m\u001b[33men\u001b[39m\u001b[33m'\u001b[39m)\n",
      "\u001b[31mAttributeError\u001b[39m: 'TextBlob' object has no attribute 'translate'"
     ]
    }
   ],
   "source": [
    "s1.translate(from_lang='fr', to='en')"
   ]
  },
  {
   "cell_type": "code",
   "execution_count": 77,
   "id": "75be1e24-bf9a-4418-91c5-02f23ce6ddcb",
   "metadata": {},
   "outputs": [
    {
     "ename": "TypeError",
     "evalue": "str.translate() takes no keyword arguments",
     "output_type": "error",
     "traceback": [
      "\u001b[31m---------------------------------------------------------------------------\u001b[39m",
      "\u001b[31mTypeError\u001b[39m                                 Traceback (most recent call last)",
      "\u001b[36mCell\u001b[39m\u001b[36m \u001b[39m\u001b[32mIn[77]\u001b[39m\u001b[32m, line 1\u001b[39m\n\u001b[32m----> \u001b[39m\u001b[32m1\u001b[39m \u001b[43ma\u001b[49m\u001b[43m.\u001b[49m\u001b[43mtranslate\u001b[49m\u001b[43m(\u001b[49m\u001b[43mto\u001b[49m\u001b[43m=\u001b[49m\u001b[33;43m'\u001b[39;49m\u001b[33;43mes\u001b[39;49m\u001b[33;43m'\u001b[39;49m\u001b[43m)\u001b[49m\n",
      "\u001b[31mTypeError\u001b[39m: str.translate() takes no keyword arguments"
     ]
    }
   ],
   "source": [
    "a.translate(to='es')"
   ]
  },
  {
   "cell_type": "code",
   "execution_count": 78,
   "id": "92da49a2-a3a2-4b1c-aba2-e8fb676a1309",
   "metadata": {},
   "outputs": [
    {
     "ename": "AttributeError",
     "evalue": "'TextBlob' object has no attribute 'detect_language'",
     "output_type": "error",
     "traceback": [
      "\u001b[31m---------------------------------------------------------------------------\u001b[39m",
      "\u001b[31mAttributeError\u001b[39m                            Traceback (most recent call last)",
      "\u001b[36mCell\u001b[39m\u001b[36m \u001b[39m\u001b[32mIn[78]\u001b[39m\u001b[32m, line 1\u001b[39m\n\u001b[32m----> \u001b[39m\u001b[32m1\u001b[39m \u001b[43ms1\u001b[49m\u001b[43m.\u001b[49m\u001b[43mdetect_language\u001b[49m()\n",
      "\u001b[31mAttributeError\u001b[39m: 'TextBlob' object has no attribute 'detect_language'"
     ]
    }
   ],
   "source": [
    "s1.detect_language()"
   ]
  },
  {
   "cell_type": "code",
   "execution_count": 89,
   "id": "aafde76e-8a79-468d-8a6a-7ede9cc9a7cf",
   "metadata": {},
   "outputs": [
    {
     "name": "stderr",
     "output_type": "stream",
     "text": [
      "[nltk_data] Downloading package punkt to\n",
      "[nltk_data]     C:\\Users\\s_nas\\AppData\\Roaming\\nltk_data...\n",
      "[nltk_data]   Package punkt is already up-to-date!\n"
     ]
    },
    {
     "data": {
      "text/plain": [
       "True"
      ]
     },
     "execution_count": 89,
     "metadata": {},
     "output_type": "execute_result"
    }
   ],
   "source": [
    "import nltk\n",
    "nltk.download('punkt')\n"
   ]
  },
  {
   "cell_type": "code",
   "execution_count": 93,
   "id": "0951e5e7-b043-4d78-8af0-10ef68b1cb24",
   "metadata": {},
   "outputs": [],
   "source": [
    "text = \"Python est un beau langage de programmation\"\n"
   ]
  },
  {
   "cell_type": "code",
   "execution_count": 90,
   "id": "2b4c8aed-71ec-46d8-8fc9-49e63be5d467",
   "metadata": {},
   "outputs": [],
   "source": [
    "s1 = TextBlob('Python est un beau langage de programmation')"
   ]
  },
  {
   "cell_type": "code",
   "execution_count": 91,
   "id": "013f51d9-aa2e-467f-b952-84ec2c85326b",
   "metadata": {},
   "outputs": [
    {
     "ename": "AttributeError",
     "evalue": "'TextBlob' object has no attribute 'detect_language'",
     "output_type": "error",
     "traceback": [
      "\u001b[31m---------------------------------------------------------------------------\u001b[39m",
      "\u001b[31mAttributeError\u001b[39m                            Traceback (most recent call last)",
      "\u001b[36mCell\u001b[39m\u001b[36m \u001b[39m\u001b[32mIn[91]\u001b[39m\u001b[32m, line 1\u001b[39m\n\u001b[32m----> \u001b[39m\u001b[32m1\u001b[39m \u001b[43ms1\u001b[49m\u001b[43m.\u001b[49m\u001b[43mdetect_language\u001b[49m()\n",
      "\u001b[31mAttributeError\u001b[39m: 'TextBlob' object has no attribute 'detect_language'"
     ]
    }
   ],
   "source": [
    "s1.detect_language()"
   ]
  },
  {
   "cell_type": "code",
   "execution_count": 94,
   "id": "5175b2c8-cd27-4451-a6ec-ba9d3235b413",
   "metadata": {},
   "outputs": [],
   "source": [
    "#Translate seems to be not working anymore"
   ]
  },
  {
   "cell_type": "code",
   "execution_count": null,
   "id": "1044c372-3f7e-4b92-914a-bbb667b56842",
   "metadata": {},
   "outputs": [],
   "source": []
  }
 ],
 "metadata": {
  "kernelspec": {
   "display_name": "Python 3 (ipykernel)",
   "language": "python",
   "name": "python3"
  },
  "language_info": {
   "codemirror_mode": {
    "name": "ipython",
    "version": 3
   },
   "file_extension": ".py",
   "mimetype": "text/x-python",
   "name": "python",
   "nbconvert_exporter": "python",
   "pygments_lexer": "ipython3",
   "version": "3.12.10"
  }
 },
 "nbformat": 4,
 "nbformat_minor": 5
}
