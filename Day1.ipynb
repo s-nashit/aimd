{
 "cells": [
  {
   "cell_type": "code",
   "execution_count": 29,
   "id": "6fdbcd47-d7b6-4b40-b339-0f1529810ab2",
   "metadata": {},
   "outputs": [],
   "source": [
    "import re"
   ]
  },
  {
   "cell_type": "code",
   "execution_count": 30,
   "id": "3dc01af9-2bb1-4d6a-b02e-f869d09f51b8",
   "metadata": {},
   "outputs": [],
   "source": [
    "text = 'HI, I am Nashit 9000. My PIN code is 800008. 7900'"
   ]
  },
  {
   "cell_type": "code",
   "execution_count": 31,
   "id": "8dc495fc-2fe3-43a0-95ee-c96ba242175b",
   "metadata": {},
   "outputs": [],
   "source": [
    "pattern = '\\d'"
   ]
  },
  {
   "cell_type": "code",
   "execution_count": 32,
   "id": "d01f8dd4-4e73-4467-aefb-25ce5d0a50ad",
   "metadata": {},
   "outputs": [
    {
     "data": {
      "text/plain": [
       "'9'"
      ]
     },
     "execution_count": 32,
     "metadata": {},
     "output_type": "execute_result"
    }
   ],
   "source": [
    "re.findall(pattern, text)[0]"
   ]
  },
  {
   "cell_type": "code",
   "execution_count": 33,
   "id": "46804479-e9b0-409b-adea-f90bcba40023",
   "metadata": {},
   "outputs": [],
   "source": [
    "text = '''SHIVAM KUMAR\n",
    "Mobile: +917870066085 | Email: innocentboy9472@gmail.com\n",
    "Linkedin\n",
    "PROFILE\n",
    "AI enthusiast with practical\n",
    "experience in Python, Data\n",
    "Science, and Machine\n",
    "Learning. Completed Full\n",
    "Stack Data Science course\n",
    "from Data Intelliage.\n",
    "Passionate, quick learner\n",
    "with strong problem-solving\n",
    "and communication skills.\n",
    "CONTACT\n",
    "DOB: 17th Nov, 2003\n",
    "Current Address:\n",
    "Nandgola patna city, Patna,\n",
    "Bihar, 800008\n",
    "Permanent Address:\n",
    "Nandgola patna city, Patna,\n",
    "Bihar, 800008\n",
    "HOBBIES\n",
    "Watching documentaries\n",
    "on innovation & science\n",
    "SKILLS Python, SQL, Data Analysis, Artificial Intelligence\n",
    "EDUCATION\n",
    "School/College - Degree Year of Completion Board Percentage\n",
    "12th 2021 BSEB 62\n",
    "10th 2018 BSEB 55\n",
    "CERTIFICATIONS\n",
    "Full Stack Data Science (14 Months)\n",
    "June 2023-August 2024\n",
    "Skills Learnt: Python, SQL, Data Analysis & Visualization, Machine Learning,\n",
    "Deep Learning.\n",
    "PROJECT / WORK EXPERIENCE\n",
    "NSTI AI Apprentice\n",
    "September 2024 – September 2025'''"
   ]
  },
  {
   "cell_type": "code",
   "execution_count": 34,
   "id": "81193e5a-9e0e-4951-9ccd-1918d065d3ca",
   "metadata": {},
   "outputs": [],
   "source": [
    "def get_match(pattern, text):\n",
    "    matches = re.findall(pattern, text)\n",
    "    if matches:\n",
    "        return matches[0]"
   ]
  },
  {
   "cell_type": "code",
   "execution_count": 35,
   "id": "4f7603df-a2fb-4fc7-ba5e-1be47801e68a",
   "metadata": {},
   "outputs": [
    {
     "data": {
      "text/plain": [
       "'innocentboy9472@gmail.com'"
      ]
     },
     "execution_count": 35,
     "metadata": {},
     "output_type": "execute_result"
    }
   ],
   "source": [
    "get_match('[a-zA-Z0-9]*@[a-z]*.[a-z]*', text)"
   ]
  },
  {
   "cell_type": "code",
   "execution_count": 36,
   "id": "f2cb894b-f510-45ea-b9bd-e03cddf878a2",
   "metadata": {},
   "outputs": [
    {
     "data": {
      "text/plain": [
       "'+917870066085'"
      ]
     },
     "execution_count": 36,
     "metadata": {},
     "output_type": "execute_result"
    }
   ],
   "source": [
    "get_match('\\+[0-9]{12}', text)"
   ]
  },
  {
   "cell_type": "code",
   "execution_count": 37,
   "id": "8c58c285-f00f-40e0-b14c-eaab8aeb6a6d",
   "metadata": {},
   "outputs": [
    {
     "data": {
      "text/plain": [
       "'9178700660'"
      ]
     },
     "execution_count": 37,
     "metadata": {},
     "output_type": "execute_result"
    }
   ],
   "source": [
    "get_match('[0-9]{10}', text)"
   ]
  },
  {
   "cell_type": "code",
   "execution_count": 38,
   "id": "eac5dd4b-7400-464f-acb1-cb6d87f20e1d",
   "metadata": {},
   "outputs": [
    {
     "data": {
      "text/plain": [
       "'17th Nov, 2003'"
      ]
     },
     "execution_count": 38,
     "metadata": {},
     "output_type": "execute_result"
    }
   ],
   "source": [
    "get_match(r'DOB: (.*)\\n', text)"
   ]
  },
  {
   "cell_type": "code",
   "execution_count": 39,
   "id": "2877329f-b8f6-49a4-882b-3336934b155f",
   "metadata": {},
   "outputs": [
    {
     "data": {
      "text/plain": [
       "'Python, SQL, Data Analysis, Artificial Intelligence'"
      ]
     },
     "execution_count": 39,
     "metadata": {},
     "output_type": "execute_result"
    }
   ],
   "source": [
    "get_match(r'SKILLS (.*)\\n', text)"
   ]
  },
  {
   "cell_type": "code",
   "execution_count": 40,
   "id": "c7124b11-d747-4047-a25c-094a1f40e4fe",
   "metadata": {},
   "outputs": [],
   "source": [
    "#Tokenisation"
   ]
  },
  {
   "cell_type": "code",
   "execution_count": 17,
   "id": "18801410-0581-4d36-9fe0-1109742ef33b",
   "metadata": {},
   "outputs": [],
   "source": [
    "from nltk.tokenize import sent_tokenize"
   ]
  },
  {
   "cell_type": "code",
   "execution_count": 18,
   "id": "aee5cf71-3725-4b2a-876d-a0f6bf08dfb0",
   "metadata": {},
   "outputs": [],
   "source": [
    "import nltk"
   ]
  },
  {
   "cell_type": "code",
   "execution_count": 19,
   "id": "b688394e-15bc-441a-93ad-6681f3cd54c2",
   "metadata": {},
   "outputs": [
    {
     "name": "stderr",
     "output_type": "stream",
     "text": [
      "[nltk_data] Downloading package punkt to\n",
      "[nltk_data]     C:\\Users\\s_nas\\AppData\\Roaming\\nltk_data...\n",
      "[nltk_data]   Package punkt is already up-to-date!\n"
     ]
    },
    {
     "data": {
      "text/plain": [
       "True"
      ]
     },
     "execution_count": 19,
     "metadata": {},
     "output_type": "execute_result"
    }
   ],
   "source": [
    "nltk.download('punkt')\n"
   ]
  },
  {
   "cell_type": "code",
   "execution_count": 20,
   "id": "22cabdbc-7cb5-45a2-8118-e25429d06060",
   "metadata": {},
   "outputs": [
    {
     "name": "stderr",
     "output_type": "stream",
     "text": [
      "[nltk_data] Downloading package punkt_tab to\n",
      "[nltk_data]     C:\\Users\\s_nas\\AppData\\Roaming\\nltk_data...\n",
      "[nltk_data]   Package punkt_tab is already up-to-date!\n"
     ]
    },
    {
     "data": {
      "text/plain": [
       "True"
      ]
     },
     "execution_count": 20,
     "metadata": {},
     "output_type": "execute_result"
    }
   ],
   "source": [
    "nltk.download('punkt_tab')"
   ]
  },
  {
   "cell_type": "code",
   "execution_count": 32,
   "id": "67f146dd-1a6a-4f22-bac4-4db8b1caa38f",
   "metadata": {},
   "outputs": [],
   "source": [
    "text = 'I am Nashit.     I       am, from Patna. Patna is good.'"
   ]
  },
  {
   "cell_type": "code",
   "execution_count": 33,
   "id": "087aa312-3d22-4f7d-af49-8c3259d272e5",
   "metadata": {},
   "outputs": [
    {
     "data": {
      "text/plain": [
       "['I am Nashit.', 'I       am, from Patna.', 'Patna is good.']"
      ]
     },
     "execution_count": 33,
     "metadata": {},
     "output_type": "execute_result"
    }
   ],
   "source": [
    "sent_tokenize(text)"
   ]
  },
  {
   "cell_type": "code",
   "execution_count": 34,
   "id": "f4b63bae-7f6e-4529-b824-403ac630f683",
   "metadata": {},
   "outputs": [],
   "source": [
    "from nltk.tokenize import word_tokenize"
   ]
  },
  {
   "cell_type": "code",
   "execution_count": 38,
   "id": "80a78575-6249-49b1-aacd-6da25772bd6b",
   "metadata": {},
   "outputs": [
    {
     "data": {
      "text/plain": [
       "['I',\n",
       " 'am',\n",
       " 'Nashit',\n",
       " '.',\n",
       " 'I',\n",
       " 'am',\n",
       " ',',\n",
       " 'from',\n",
       " 'Patna',\n",
       " '.',\n",
       " 'Patna',\n",
       " 'is',\n",
       " 'good',\n",
       " '.']"
      ]
     },
     "execution_count": 38,
     "metadata": {},
     "output_type": "execute_result"
    }
   ],
   "source": [
    "word_tokenize(text)"
   ]
  },
  {
   "cell_type": "code",
   "execution_count": 36,
   "id": "f872788d-5c69-433e-b932-8a7d8f64a1bc",
   "metadata": {},
   "outputs": [],
   "source": [
    "#Stemming"
   ]
  },
  {
   "cell_type": "code",
   "execution_count": 50,
   "id": "cb04be66-380d-4495-8472-fbcc79b6db87",
   "metadata": {},
   "outputs": [],
   "source": [
    "from nltk.stem import PorterStemmer"
   ]
  },
  {
   "cell_type": "code",
   "execution_count": 51,
   "id": "7cb8624a-6509-49dc-a2e1-2b68ac903d26",
   "metadata": {},
   "outputs": [],
   "source": [
    "words = ['raft', 'eats', 'walking', 'eating', 'eat', 'meeting' ]"
   ]
  },
  {
   "cell_type": "code",
   "execution_count": 52,
   "id": "9c975498-56d1-4494-ba0d-dfe4c2b43ddb",
   "metadata": {},
   "outputs": [
    {
     "name": "stdout",
     "output_type": "stream",
     "text": [
      "raft - raft\n",
      "eats - eat\n",
      "walking - walk\n",
      "eating - eat\n",
      "eat - eat\n",
      "meeting - meet\n"
     ]
    }
   ],
   "source": [
    "stemmer = PorterStemmer()\n",
    "for i in words:\n",
    "    print(i, '-', stemmer.stem(i))"
   ]
  },
  {
   "cell_type": "code",
   "execution_count": 53,
   "id": "edfcc1f4-64ba-4cdf-b767-5ba040d48e55",
   "metadata": {},
   "outputs": [],
   "source": [
    "from nltk.stem import WordNetLemmatizer"
   ]
  },
  {
   "cell_type": "code",
   "execution_count": 54,
   "id": "dce30c47-6b4f-4a21-a4b1-201f15ad8ede",
   "metadata": {},
   "outputs": [
    {
     "name": "stderr",
     "output_type": "stream",
     "text": [
      "[nltk_data] Downloading package wordnet to\n",
      "[nltk_data]     C:\\Users\\s_nas\\AppData\\Roaming\\nltk_data...\n",
      "[nltk_data]   Package wordnet is already up-to-date!\n"
     ]
    },
    {
     "data": {
      "text/plain": [
       "True"
      ]
     },
     "execution_count": 54,
     "metadata": {},
     "output_type": "execute_result"
    }
   ],
   "source": [
    "nltk.download('wordnet')"
   ]
  },
  {
   "cell_type": "code",
   "execution_count": 55,
   "id": "8a678af7-d7b6-43fc-a5bc-f3a86a02f44c",
   "metadata": {},
   "outputs": [],
   "source": [
    "lem = WordNetLemmatizer()"
   ]
  },
  {
   "cell_type": "code",
   "execution_count": 58,
   "id": "c6af6461-f452-4150-81a0-95925d253101",
   "metadata": {},
   "outputs": [
    {
     "data": {
      "text/plain": [
       "'walking'"
      ]
     },
     "execution_count": 58,
     "metadata": {},
     "output_type": "execute_result"
    }
   ],
   "source": [
    "lem.lemmatize('walking')"
   ]
  },
  {
   "cell_type": "code",
   "execution_count": 57,
   "id": "65b8c727-2b2b-4aab-b03b-55d239e30135",
   "metadata": {},
   "outputs": [
    {
     "name": "stdout",
     "output_type": "stream",
     "text": [
      "showing info https://raw.githubusercontent.com/nltk/nltk_data/gh-pages/index.xml\n"
     ]
    },
    {
     "data": {
      "text/plain": [
       "True"
      ]
     },
     "execution_count": 57,
     "metadata": {},
     "output_type": "execute_result"
    }
   ],
   "source": [
    "nltk.download()"
   ]
  },
  {
   "cell_type": "code",
   "execution_count": 1,
   "id": "083b252b-406a-432e-9e1f-99a81a26f0d7",
   "metadata": {},
   "outputs": [],
   "source": [
    "from nltk.stem import WordNetLemmatizer"
   ]
  },
  {
   "cell_type": "code",
   "execution_count": 2,
   "id": "9d0874ba-d7af-4c78-9f92-2aea99aa2ab6",
   "metadata": {},
   "outputs": [],
   "source": [
    "lemmatizer = WordNetLemmatizer()"
   ]
  },
  {
   "cell_type": "code",
   "execution_count": 8,
   "id": "03a23714-fce8-4e46-8834-f626cbf29aea",
   "metadata": {},
   "outputs": [
    {
     "name": "stdout",
     "output_type": "stream",
     "text": [
      "rock\n"
     ]
    }
   ],
   "source": [
    "print(lemmatizer.lemmatize('rocks'))"
   ]
  },
  {
   "cell_type": "code",
   "execution_count": 9,
   "id": "028d4d98-daf8-4e1f-9e9e-19cb9ac3a170",
   "metadata": {},
   "outputs": [
    {
     "data": {
      "text/plain": [
       "'corpus'"
      ]
     },
     "execution_count": 9,
     "metadata": {},
     "output_type": "execute_result"
    }
   ],
   "source": [
    "lemmatizer.lemmatize('corpora')"
   ]
  },
  {
   "cell_type": "code",
   "execution_count": 12,
   "id": "a01ea6f1-a652-4790-bc32-14d3c2ac9e49",
   "metadata": {},
   "outputs": [
    {
     "data": {
      "text/plain": [
       "'good'"
      ]
     },
     "execution_count": 12,
     "metadata": {},
     "output_type": "execute_result"
    }
   ],
   "source": [
    "lemmatizer.lemmatize('better', pos='a')"
   ]
  },
  {
   "cell_type": "code",
   "execution_count": 16,
   "id": "9d129014-f5fd-4df8-bb55-5ddb9b148737",
   "metadata": {},
   "outputs": [
    {
     "data": {
      "text/plain": [
       "'tall'"
      ]
     },
     "execution_count": 16,
     "metadata": {},
     "output_type": "execute_result"
    }
   ],
   "source": [
    "lemmatizer.lemmatize('taller', pos='a')"
   ]
  },
  {
   "cell_type": "code",
   "execution_count": 39,
   "id": "d5048300-3afe-43be-ba31-31d4aedfc860",
   "metadata": {},
   "outputs": [
    {
     "name": "stdout",
     "output_type": "stream",
     "text": [
      "showing info https://raw.githubusercontent.com/nltk/nltk_data/gh-pages/index.xml\n"
     ]
    },
    {
     "data": {
      "text/plain": [
       "True"
      ]
     },
     "execution_count": 39,
     "metadata": {},
     "output_type": "execute_result"
    }
   ],
   "source": [
    "nltk.download()"
   ]
  },
  {
   "cell_type": "code",
   "execution_count": 40,
   "id": "4a057db2-c9ef-4eaa-bd5d-afe1d5ece104",
   "metadata": {},
   "outputs": [],
   "source": [
    "from nltk.corpus import stopwords"
   ]
  },
  {
   "cell_type": "code",
   "execution_count": 41,
   "id": "45555dcc-d9cc-4758-ab7b-628c8f7f41a1",
   "metadata": {},
   "outputs": [],
   "source": [
    "stops = set(stopwords.words('english'))"
   ]
  },
  {
   "cell_type": "code",
   "execution_count": 57,
   "id": "19242e2d-7959-4d5f-ae97-2f1c25284294",
   "metadata": {},
   "outputs": [],
   "source": [
    "words = ['I', 'am', 'Nashit', 'a', 'engineer']"
   ]
  },
  {
   "cell_type": "code",
   "execution_count": 58,
   "id": "b5466c97-fbaf-4f8f-b872-d6610d8ef71d",
   "metadata": {},
   "outputs": [
    {
     "data": {
      "text/plain": [
       "['I', 'Nashit', 'engineer']"
      ]
     },
     "execution_count": 58,
     "metadata": {},
     "output_type": "execute_result"
    }
   ],
   "source": [
    "[word for word in words if word not in stops]"
   ]
  },
  {
   "cell_type": "code",
   "execution_count": 61,
   "id": "1001248a-3785-47de-b670-c02ac7936a8e",
   "metadata": {},
   "outputs": [],
   "source": [
    "text = '''The actor's house help, Sangita Pawar, asked 47-year-old woman Gazala Jhakaria Siddique a few questions and was made to believe that she brought clothes and other gifts for the actor. Upon his return home, Sangita told Aditya about the woman. However, after seeing her, Aditya said he couldn't recognise her.'''"
   ]
  },
  {
   "cell_type": "code",
   "execution_count": 62,
   "id": "778b630b-5c8f-43b3-888f-8c71f933b462",
   "metadata": {},
   "outputs": [],
   "source": [
    "tokens = word_tokenize(text)"
   ]
  },
  {
   "cell_type": "code",
   "execution_count": 63,
   "id": "18df39e8-83ff-486f-9760-0cedf9506220",
   "metadata": {},
   "outputs": [
    {
     "data": {
      "text/plain": [
       "['The',\n",
       " 'actor',\n",
       " \"'s\",\n",
       " 'house',\n",
       " 'help',\n",
       " ',',\n",
       " 'Sangita',\n",
       " 'Pawar',\n",
       " ',',\n",
       " 'asked',\n",
       " '47-year-old',\n",
       " 'woman',\n",
       " 'Gazala',\n",
       " 'Jhakaria',\n",
       " 'Siddique',\n",
       " 'a',\n",
       " 'few',\n",
       " 'questions',\n",
       " 'and',\n",
       " 'was',\n",
       " 'made',\n",
       " 'to',\n",
       " 'believe',\n",
       " 'that',\n",
       " 'she',\n",
       " 'brought',\n",
       " 'clothes',\n",
       " 'and',\n",
       " 'other',\n",
       " 'gifts',\n",
       " 'for',\n",
       " 'the',\n",
       " 'actor',\n",
       " '.',\n",
       " 'Upon',\n",
       " 'his',\n",
       " 'return',\n",
       " 'home',\n",
       " ',',\n",
       " 'Sangita',\n",
       " 'told',\n",
       " 'Aditya',\n",
       " 'about',\n",
       " 'the',\n",
       " 'woman',\n",
       " '.',\n",
       " 'However',\n",
       " ',',\n",
       " 'after',\n",
       " 'seeing',\n",
       " 'her',\n",
       " ',',\n",
       " 'Aditya',\n",
       " 'said',\n",
       " 'he',\n",
       " 'could',\n",
       " \"n't\",\n",
       " 'recognise',\n",
       " 'her',\n",
       " '.']"
      ]
     },
     "execution_count": 63,
     "metadata": {},
     "output_type": "execute_result"
    }
   ],
   "source": [
    "tokens"
   ]
  },
  {
   "cell_type": "code",
   "execution_count": 65,
   "id": "a631b152-401d-4480-877d-8a5c4ca5bacc",
   "metadata": {},
   "outputs": [
    {
     "data": {
      "text/plain": [
       "60"
      ]
     },
     "execution_count": 65,
     "metadata": {},
     "output_type": "execute_result"
    }
   ],
   "source": [
    "len(tokens)"
   ]
  },
  {
   "cell_type": "code",
   "execution_count": 66,
   "id": "4ce1eafc-e0e4-4937-ac1a-ee8fc4f649e3",
   "metadata": {},
   "outputs": [],
   "source": [
    "a = [word for word in tokens if word not in stops]"
   ]
  },
  {
   "cell_type": "code",
   "execution_count": 67,
   "id": "d962d979-af57-42fa-b412-cc82e3b90aa7",
   "metadata": {},
   "outputs": [
    {
     "data": {
      "text/plain": [
       "42"
      ]
     },
     "execution_count": 67,
     "metadata": {},
     "output_type": "execute_result"
    }
   ],
   "source": [
    "len(a)"
   ]
  },
  {
   "cell_type": "code",
   "execution_count": 68,
   "id": "1061a17a-a82e-4fa9-b68e-aea4344307c0",
   "metadata": {},
   "outputs": [
    {
     "data": {
      "text/plain": [
       "['The',\n",
       " 'actor',\n",
       " \"'s\",\n",
       " 'house',\n",
       " 'help',\n",
       " ',',\n",
       " 'Sangita',\n",
       " 'Pawar',\n",
       " ',',\n",
       " 'asked',\n",
       " '47-year-old',\n",
       " 'woman',\n",
       " 'Gazala',\n",
       " 'Jhakaria',\n",
       " 'Siddique',\n",
       " 'questions',\n",
       " 'made',\n",
       " 'believe',\n",
       " 'brought',\n",
       " 'clothes',\n",
       " 'gifts',\n",
       " 'actor',\n",
       " '.',\n",
       " 'Upon',\n",
       " 'return',\n",
       " 'home',\n",
       " ',',\n",
       " 'Sangita',\n",
       " 'told',\n",
       " 'Aditya',\n",
       " 'woman',\n",
       " '.',\n",
       " 'However',\n",
       " ',',\n",
       " 'seeing',\n",
       " ',',\n",
       " 'Aditya',\n",
       " 'said',\n",
       " 'could',\n",
       " \"n't\",\n",
       " 'recognise',\n",
       " '.']"
      ]
     },
     "execution_count": 68,
     "metadata": {},
     "output_type": "execute_result"
    }
   ],
   "source": [
    "a"
   ]
  },
  {
   "cell_type": "code",
   "execution_count": 1,
   "id": "0280f29e-ab34-40b7-b205-a34e41cfd432",
   "metadata": {},
   "outputs": [],
   "source": [
    "import numpy as np"
   ]
  },
  {
   "cell_type": "code",
   "execution_count": 5,
   "id": "f3673395-d801-4245-8ab4-49c277986280",
   "metadata": {},
   "outputs": [
    {
     "data": {
      "text/plain": [
       "array([[2, 3, 4],\n",
       "       [6, 7, 8],\n",
       "       [8, 9, 8]])"
      ]
     },
     "execution_count": 5,
     "metadata": {},
     "output_type": "execute_result"
    }
   ],
   "source": [
    "a = np.array([2,3,4])\n",
    "b = np.array([6,7,8])\n",
    "c = np.array([8,9,8])\n",
    "np.stack((a,b,c))"
   ]
  },
  {
   "cell_type": "code",
   "execution_count": 6,
   "id": "d613354c-8361-4df8-9bcb-75843f96a661",
   "metadata": {},
   "outputs": [],
   "source": [
    "# Import necessary libraries\n",
    "import numpy as np\n",
    "import matplotlib.pyplot as plt\n",
    "from sklearn.linear_model import LinearRegression\n",
    "from sklearn.model_selection import train_test_split\n",
    "\n"
   ]
  },
  {
   "cell_type": "code",
   "execution_count": 7,
   "id": "8438d057-1495-434d-80d8-edf7e38eca93",
   "metadata": {},
   "outputs": [],
   "source": [
    "\n",
    "X = np.array([1, 2, 3, 4, 5]).reshape(-1, 1)  # Reshape for scikit-learn\n",
    "y = np.array([1.5, 3.7, 2.8, 4.9, 6.1])\n",
    "\n",
    "# Split data into training and testing sets\n"
   ]
  },
  {
   "cell_type": "code",
   "execution_count": 8,
   "id": "4e539d51-0445-4a67-936a-36c953f301c1",
   "metadata": {},
   "outputs": [
    {
     "data": {
      "text/plain": [
       "array([[1],\n",
       "       [2],\n",
       "       [3],\n",
       "       [4],\n",
       "       [5]])"
      ]
     },
     "execution_count": 8,
     "metadata": {},
     "output_type": "execute_result"
    }
   ],
   "source": [
    " X   "
   ]
  },
  {
   "cell_type": "code",
   "execution_count": null,
   "id": "af3b6708-1a71-4cfb-ba34-ef583ad65838",
   "metadata": {},
   "outputs": [],
   "source": [
    "X_train, X_test, y_train, y_test = train_test_split(X, y, test_size=0.2, random_state=42)\n",
    "\n",
    "# Create and train the linear regression model\n",
    "model = LinearRegression()\n",
    "model.fit(X_train, y_train)\n",
    "\n",
    "# Make predictions\n",
    "y_pred = model.predict(X_test)\n",
    "\n",
    "# Print model coefficients\n",
    "print(f\"Intercept: {model.intercept_}\")\n",
    "print(f\"Coefficient: {model.coef_[0]}\")\n",
    "\n",
    "# Visualize the results\n",
    "plt.scatter(X, y, color='blue', label='Data Points')\n",
    "plt.plot(X, model.predict(X), color='red', label='Regression Line')\n",
    "plt.xlabel('X')\n",
    "plt.ylabel('y')\n",
    "plt.legend()\n",
    "plt.title('Simple Linear Regression')\n",
    "plt.show()\n",
    "Key Points:\n",
    "LinearRegression(): Fits a linear model to the data.\n",
    "train_test_split: Splits the data into training and testing sets for better evaluation.\n",
    "Visualization: The scatter plot shows the data points, and the red line represents the regression line.\n",
    "This is a simple and effective way to perform linear regression in Python. Let me know if you'd like further clarification!\n",
    "\n"
   ]
  }
 ],
 "metadata": {
  "kernelspec": {
   "display_name": "Python 3 (ipykernel)",
   "language": "python",
   "name": "python3"
  },
  "language_info": {
   "codemirror_mode": {
    "name": "ipython",
    "version": 3
   },
   "file_extension": ".py",
   "mimetype": "text/x-python",
   "name": "python",
   "nbconvert_exporter": "python",
   "pygments_lexer": "ipython3",
   "version": "3.12.10"
  }
 },
 "nbformat": 4,
 "nbformat_minor": 5
}
