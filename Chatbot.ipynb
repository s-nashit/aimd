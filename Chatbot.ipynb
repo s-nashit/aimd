{
 "cells": [
  {
   "cell_type": "code",
   "execution_count": 23,
   "id": "d003dcdf-8d7c-423f-8841-9ce1d7499129",
   "metadata": {},
   "outputs": [],
   "source": [
    "import nltk\n",
    "import spacy\n",
    "import os"
   ]
  },
  {
   "cell_type": "code",
   "execution_count": 2,
   "id": "b1afaec7-7ec3-47f1-8a28-63e46c4ccbbe",
   "metadata": {},
   "outputs": [],
   "source": [
    "nlp = spacy.load('en_core_web_sm')"
   ]
  },
  {
   "cell_type": "code",
   "execution_count": 3,
   "id": "782ccc59-3f76-4d1a-a300-78dd6883428d",
   "metadata": {},
   "outputs": [
    {
     "name": "stderr",
     "output_type": "stream",
     "text": [
      "[nltk_data] Downloading collection 'popular'\n",
      "[nltk_data]    | \n",
      "[nltk_data]    | Downloading package cmudict to\n",
      "[nltk_data]    |     C:\\Users\\s_nas\\AppData\\Roaming\\nltk_data...\n",
      "[nltk_data]    |   Package cmudict is already up-to-date!\n",
      "[nltk_data]    | Downloading package gazetteers to\n",
      "[nltk_data]    |     C:\\Users\\s_nas\\AppData\\Roaming\\nltk_data...\n",
      "[nltk_data]    |   Package gazetteers is already up-to-date!\n",
      "[nltk_data]    | Downloading package genesis to\n",
      "[nltk_data]    |     C:\\Users\\s_nas\\AppData\\Roaming\\nltk_data...\n",
      "[nltk_data]    |   Package genesis is already up-to-date!\n",
      "[nltk_data]    | Downloading package gutenberg to\n",
      "[nltk_data]    |     C:\\Users\\s_nas\\AppData\\Roaming\\nltk_data...\n",
      "[nltk_data]    |   Package gutenberg is already up-to-date!\n",
      "[nltk_data]    | Downloading package inaugural to\n",
      "[nltk_data]    |     C:\\Users\\s_nas\\AppData\\Roaming\\nltk_data...\n",
      "[nltk_data]    |   Package inaugural is already up-to-date!\n",
      "[nltk_data]    | Downloading package movie_reviews to\n",
      "[nltk_data]    |     C:\\Users\\s_nas\\AppData\\Roaming\\nltk_data...\n",
      "[nltk_data]    |   Package movie_reviews is already up-to-date!\n",
      "[nltk_data]    | Downloading package names to\n",
      "[nltk_data]    |     C:\\Users\\s_nas\\AppData\\Roaming\\nltk_data...\n",
      "[nltk_data]    |   Package names is already up-to-date!\n",
      "[nltk_data]    | Downloading package shakespeare to\n",
      "[nltk_data]    |     C:\\Users\\s_nas\\AppData\\Roaming\\nltk_data...\n",
      "[nltk_data]    |   Package shakespeare is already up-to-date!\n",
      "[nltk_data]    | Downloading package stopwords to\n",
      "[nltk_data]    |     C:\\Users\\s_nas\\AppData\\Roaming\\nltk_data...\n",
      "[nltk_data]    |   Package stopwords is already up-to-date!\n",
      "[nltk_data]    | Downloading package treebank to\n",
      "[nltk_data]    |     C:\\Users\\s_nas\\AppData\\Roaming\\nltk_data...\n",
      "[nltk_data]    |   Package treebank is already up-to-date!\n",
      "[nltk_data]    | Downloading package twitter_samples to\n",
      "[nltk_data]    |     C:\\Users\\s_nas\\AppData\\Roaming\\nltk_data...\n",
      "[nltk_data]    |   Package twitter_samples is already up-to-date!\n",
      "[nltk_data]    | Downloading package omw to\n",
      "[nltk_data]    |     C:\\Users\\s_nas\\AppData\\Roaming\\nltk_data...\n",
      "[nltk_data]    |   Package omw is already up-to-date!\n",
      "[nltk_data]    | Downloading package omw-1.4 to\n",
      "[nltk_data]    |     C:\\Users\\s_nas\\AppData\\Roaming\\nltk_data...\n",
      "[nltk_data]    |   Package omw-1.4 is already up-to-date!\n",
      "[nltk_data]    | Downloading package wordnet to\n",
      "[nltk_data]    |     C:\\Users\\s_nas\\AppData\\Roaming\\nltk_data...\n",
      "[nltk_data]    |   Package wordnet is already up-to-date!\n",
      "[nltk_data]    | Downloading package wordnet2021 to\n",
      "[nltk_data]    |     C:\\Users\\s_nas\\AppData\\Roaming\\nltk_data...\n",
      "[nltk_data]    |   Package wordnet2021 is already up-to-date!\n",
      "[nltk_data]    | Downloading package wordnet31 to\n",
      "[nltk_data]    |     C:\\Users\\s_nas\\AppData\\Roaming\\nltk_data...\n",
      "[nltk_data]    |   Package wordnet31 is already up-to-date!\n",
      "[nltk_data]    | Downloading package wordnet_ic to\n",
      "[nltk_data]    |     C:\\Users\\s_nas\\AppData\\Roaming\\nltk_data...\n",
      "[nltk_data]    |   Package wordnet_ic is already up-to-date!\n",
      "[nltk_data]    | Downloading package words to\n",
      "[nltk_data]    |     C:\\Users\\s_nas\\AppData\\Roaming\\nltk_data...\n",
      "[nltk_data]    |   Package words is already up-to-date!\n",
      "[nltk_data]    | Downloading package maxent_ne_chunker to\n",
      "[nltk_data]    |     C:\\Users\\s_nas\\AppData\\Roaming\\nltk_data...\n",
      "[nltk_data]    |   Package maxent_ne_chunker is already up-to-date!\n",
      "[nltk_data]    | Downloading package punkt to\n",
      "[nltk_data]    |     C:\\Users\\s_nas\\AppData\\Roaming\\nltk_data...\n",
      "[nltk_data]    |   Package punkt is already up-to-date!\n",
      "[nltk_data]    | Downloading package snowball_data to\n",
      "[nltk_data]    |     C:\\Users\\s_nas\\AppData\\Roaming\\nltk_data...\n",
      "[nltk_data]    |   Package snowball_data is already up-to-date!\n",
      "[nltk_data]    | Downloading package averaged_perceptron_tagger to\n",
      "[nltk_data]    |     C:\\Users\\s_nas\\AppData\\Roaming\\nltk_data...\n",
      "[nltk_data]    |   Package averaged_perceptron_tagger is already up-\n",
      "[nltk_data]    |       to-date!\n",
      "[nltk_data]    | \n",
      "[nltk_data]  Done downloading collection popular\n"
     ]
    },
    {
     "data": {
      "text/plain": [
       "True"
      ]
     },
     "execution_count": 3,
     "metadata": {},
     "output_type": "execute_result"
    }
   ],
   "source": [
    "nltk.download('popular')"
   ]
  },
  {
   "cell_type": "code",
   "execution_count": 4,
   "id": "7bb1ce2d-bad3-45d8-a06d-8fd1ef9da533",
   "metadata": {},
   "outputs": [],
   "source": [
    "from nltk.tokenize import word_tokenize\n",
    "from nltk.tag import pos_tag"
   ]
  },
  {
   "cell_type": "code",
   "execution_count": 5,
   "id": "e9ee8b61-e222-4f79-9873-a819828431c0",
   "metadata": {},
   "outputs": [],
   "source": [
    "def preprocess(text):\n",
    "    words = word_tokenize(text)\n",
    "    pos_tags = pos_tag(words)\n",
    "    return pos_tags"
   ]
  },
  {
   "cell_type": "code",
   "execution_count": 6,
   "id": "d3e8f937-8977-4a2e-ac5c-52be66e5e1c3",
   "metadata": {},
   "outputs": [
    {
     "data": {
      "text/plain": [
       "[('It', 'PRP'),\n",
       " ('includes', 'VBZ'),\n",
       " ('word', 'NN'),\n",
       " ('vectors', 'NNS'),\n",
       " (',', ','),\n",
       " ('which', 'WDT'),\n",
       " ('allow', 'VBP'),\n",
       " ('for', 'IN'),\n",
       " ('more', 'RBR'),\n",
       " ('nuanced', 'JJ'),\n",
       " ('semantic', 'JJ'),\n",
       " ('similarity', 'NN'),\n",
       " ('comparisons', 'NNS'),\n",
       " ('.', '.')]"
      ]
     },
     "execution_count": 6,
     "metadata": {},
     "output_type": "execute_result"
    }
   ],
   "source": [
    "preprocess('''It includes word vectors, which allow for more nuanced semantic similarity comparisons.''')"
   ]
  },
  {
   "cell_type": "code",
   "execution_count": 15,
   "id": "4cec5234-ad40-4c59-82a3-d6740b241f11",
   "metadata": {},
   "outputs": [],
   "source": [
    "def intent(tokens):\n",
    "    greeting_keywords = ['hi', 'hello', 'hey', 'welcome']\n",
    "    address_keywords = ['location', 'address','area', 'landmark', 'place', 'phone', 'mail']\n",
    "    faculty_keywords = ['department', 'branch', 'teacher', 'lecturer', 'professor', 'faculty', 'trade']\n",
    "    tokens = [token.lower() for token, pos in tokens]\n",
    "    if any (token in greeting_keywords for token in tokens):\n",
    "        return 'greeting'\n",
    "    elif any (token in address_keywords for token in tokens):\n",
    "        return 'address'\n",
    "    elif any (token in faculty_keywords for token in tokens):\n",
    "        return 'faculty'\n",
    "    return 'unknown intent'"
   ]
  },
  {
   "cell_type": "code",
   "execution_count": 16,
   "id": "38de8ecd-e877-4aa4-a451-b67b1b16c79c",
   "metadata": {},
   "outputs": [],
   "source": [
    "user = preprocess('''to India, my friend, teacher''')"
   ]
  },
  {
   "cell_type": "code",
   "execution_count": 17,
   "id": "c2074813-f552-4b7a-91b4-7276752b677d",
   "metadata": {},
   "outputs": [
    {
     "data": {
      "text/plain": [
       "'faculty'"
      ]
     },
     "execution_count": 17,
     "metadata": {},
     "output_type": "execute_result"
    }
   ],
   "source": [
    "intent(user)"
   ]
  },
  {
   "cell_type": "code",
   "execution_count": 29,
   "id": "2b25846a-48fc-4819-a905-5e458cd94135",
   "metadata": {},
   "outputs": [],
   "source": [
    "def response(intent):\n",
    "    if intent == 'greeting':\n",
    "        return 'Hello, Welcome to Nashit Corporation'\n",
    "    elif intent == 'address':\n",
    "        return 'Nashit Corporation, NSTI(W) Patna \\nITI Digha Ghat \\n8797514075'\n",
    "    elif intent == 'faculty':\n",
    "        return 'CTS(EM) : 40 seats \\nAIMD(MS): 24 seats \\nCTS(fashion): 20'\n",
    "    \n",
    "    else:\n",
    "        return 'Unknown'"
   ]
  },
  {
   "cell_type": "code",
   "execution_count": 30,
   "id": "dd5c0a57-1741-4418-a234-934fbab2d5e6",
   "metadata": {},
   "outputs": [
    {
     "name": "stdout",
     "output_type": "stream",
     "text": [
      "CTS(EM) : 40 seats \n",
      "AIMD(MS): 24 seats \n",
      "CTS(fashion): 20\n"
     ]
    }
   ],
   "source": [
    "print(response(intent(user)))"
   ]
  },
  {
   "cell_type": "code",
   "execution_count": 35,
   "id": "0c36b8c5-b7b0-4152-a0b6-ded771900482",
   "metadata": {},
   "outputs": [
    {
     "name": "stdin",
     "output_type": "stream",
     "text": [
      "How may I help you? may i know your address\n"
     ]
    },
    {
     "name": "stdout",
     "output_type": "stream",
     "text": [
      "You want to know about : address\n"
     ]
    }
   ],
   "source": [
    "user_question = input('How may I help you?')\n",
    "user = preprocess(user_question)\n",
    "print(f'You want to know about : {intent(user)}')\n"
   ]
  },
  {
   "cell_type": "code",
   "execution_count": 36,
   "id": "1f92235c-9424-4882-83b5-da2fc85c6c00",
   "metadata": {},
   "outputs": [
    {
     "name": "stdout",
     "output_type": "stream",
     "text": [
      "Nashit Corporation, NSTI(W) Patna \n",
      " ITI Digha Ghat \n",
      " 8797514075\n"
     ]
    }
   ],
   "source": [
    "print(response(intent(user)))"
   ]
  },
  {
   "cell_type": "code",
   "execution_count": null,
   "id": "aa99a046-2fe7-4598-a708-789b52603f81",
   "metadata": {},
   "outputs": [],
   "source": []
  }
 ],
 "metadata": {
  "kernelspec": {
   "display_name": "Python 3 (ipykernel)",
   "language": "python",
   "name": "python3"
  },
  "language_info": {
   "codemirror_mode": {
    "name": "ipython",
    "version": 3
   },
   "file_extension": ".py",
   "mimetype": "text/x-python",
   "name": "python",
   "nbconvert_exporter": "python",
   "pygments_lexer": "ipython3",
   "version": "3.12.10"
  }
 },
 "nbformat": 4,
 "nbformat_minor": 5
}
